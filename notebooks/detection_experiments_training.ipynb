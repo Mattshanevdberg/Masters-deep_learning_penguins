{
 "cells": [
  {
   "cell_type": "markdown",
   "metadata": {},
   "source": [
    "# IMPORTS #"
   ]
  },
  {
   "cell_type": "code",
   "execution_count": null,
   "metadata": {},
   "outputs": [],
   "source": [
    "pip install supervision"
   ]
  },
  {
   "cell_type": "code",
   "execution_count": 1,
   "metadata": {
    "metadata": {}
   },
   "outputs": [],
   "source": [
    "import torch\n",
    "import pandas as pd\n",
    "import numpy as np\n",
    "from ultralytics.utils.ops import xyxy2xywh\n",
    "from ultralytics.utils.plotting import Annotator, colors\n",
    "import cv2\n",
    "from ultralytics import YOLO\n",
    "from matplotlib import pyplot as plt\n",
    "# no longer required\n",
    "#import fiftyone as fo\n",
    "#import fiftyone.zoo as foz\n",
    "import supervision as sv"
   ]
  },
  {
   "cell_type": "markdown",
   "metadata": {},
   "source": [
    "# Getting the OpenImagesV7 dataset ready for use #"
   ]
  },
  {
   "cell_type": "markdown",
   "metadata": {},
   "source": [
    "We are going to use the fiftyone lib to get the only the penguin data. \\\n",
    "Then we are going to need to make sure the data is compatible and in the right format for the YOLOv8 model."
   ]
  },
  {
   "cell_type": "markdown",
   "metadata": {},
   "source": [
    "## Get only the penguin data from the OpenImagesV7 dataset ##"
   ]
  },
  {
   "cell_type": "markdown",
   "metadata": {},
   "source": [
    "### Using the fiftyone - this requires the MongaDB so I am going to just work with the dataset directly ###"
   ]
  },
  {
   "cell_type": "code",
   "execution_count": null,
   "metadata": {},
   "outputs": [],
   "source": [
    "# test\n",
    "# to be removed\n",
    "dataset = foz.load_zoo_dataset(\n",
    "    \"open-images-v7\",\n",
    "    split=\"validation\",\n",
    "    max_samples=100,\n",
    "    seed=51,\n",
    "    shuffle=True,\n",
    ")\n",
    "\n",
    "session = fo.launch_app(dataset.view())\n",
    "# fiftyone is not working working off the bat so I am going to try something else and come back to this\n"
   ]
  },
  {
   "cell_type": "markdown",
   "metadata": {},
   "source": [
    "### working with the dataset and annotations directly ###"
   ]
  },
  {
   "cell_type": "markdown",
   "metadata": {},
   "source": [
    "data is found here: https://storage.googleapis.com/openimages/web/download_v7.html \\\n",
    "\\\n",
    "The goal is to create a list with all the image ids that specify that a penguin has been detected\\\n",
    "The downloader.py function that is supplied by OIV7 (and is saved it the colab directory) can be called and will only download the images in that list\\\n",
    "We then need to check those images and adjust the relevant annotations to only include those ids and save them.\\\n"
   ]
  },
  {
   "cell_type": "code",
   "execution_count": 2,
   "metadata": {},
   "outputs": [],
   "source": [
    "# path to the parent folder of the raw data\n",
    "\n",
    "ROOT_RAW_OI7_PATH = '/home/matthew/Desktop/Master_Dev/masters_penguin_pose_estimation/data/raw/OpenImagesV7'"
   ]
  },
  {
   "cell_type": "markdown",
   "metadata": {},
   "source": [
    "#### Getting the data annotations in a dataframe and filtering to only penguins ####"
   ]
  },
  {
   "cell_type": "code",
   "execution_count": 89,
   "metadata": {},
   "outputs": [],
   "source": [
    "# load csvs to dataframes to work with\n",
    "raw_image_labels = pd.read_csv(f'{ROOT_RAW_OI7_PATH}/test-annotations-human-imagelabels-boxable.csv')\n",
    "raw_bbox_labels = pd.read_csv(f'{ROOT_RAW_OI7_PATH}/test-annotations-bbox.csv')"
   ]
  },
  {
   "cell_type": "code",
   "execution_count": 90,
   "metadata": {
    "metadata": {}
   },
   "outputs": [
    {
     "data": {
      "text/html": [
       "<div>\n",
       "<style scoped>\n",
       "    .dataframe tbody tr th:only-of-type {\n",
       "        vertical-align: middle;\n",
       "    }\n",
       "\n",
       "    .dataframe tbody tr th {\n",
       "        vertical-align: top;\n",
       "    }\n",
       "\n",
       "    .dataframe thead th {\n",
       "        text-align: right;\n",
       "    }\n",
       "</style>\n",
       "<table border=\"1\" class=\"dataframe\">\n",
       "  <thead>\n",
       "    <tr style=\"text-align: right;\">\n",
       "      <th></th>\n",
       "      <th>ImageID</th>\n",
       "      <th>Source</th>\n",
       "      <th>LabelName</th>\n",
       "      <th>Confidence</th>\n",
       "    </tr>\n",
       "  </thead>\n",
       "  <tbody>\n",
       "    <tr>\n",
       "      <th>0</th>\n",
       "      <td>000026e7ee790996</td>\n",
       "      <td>verification</td>\n",
       "      <td>/m/0cgh4</td>\n",
       "      <td>0</td>\n",
       "    </tr>\n",
       "    <tr>\n",
       "      <th>1</th>\n",
       "      <td>000026e7ee790996</td>\n",
       "      <td>verification</td>\n",
       "      <td>/m/04hgtk</td>\n",
       "      <td>0</td>\n",
       "    </tr>\n",
       "    <tr>\n",
       "      <th>2</th>\n",
       "      <td>000026e7ee790996</td>\n",
       "      <td>verification</td>\n",
       "      <td>/m/0d5gx</td>\n",
       "      <td>0</td>\n",
       "    </tr>\n",
       "    <tr>\n",
       "      <th>3</th>\n",
       "      <td>000026e7ee790996</td>\n",
       "      <td>verification</td>\n",
       "      <td>/m/07j7r</td>\n",
       "      <td>1</td>\n",
       "    </tr>\n",
       "    <tr>\n",
       "      <th>4</th>\n",
       "      <td>000026e7ee790996</td>\n",
       "      <td>verification</td>\n",
       "      <td>/m/04rky</td>\n",
       "      <td>0</td>\n",
       "    </tr>\n",
       "  </tbody>\n",
       "</table>\n",
       "</div>"
      ],
      "text/plain": [
       "            ImageID        Source  LabelName  Confidence\n",
       "0  000026e7ee790996  verification   /m/0cgh4           0\n",
       "1  000026e7ee790996  verification  /m/04hgtk           0\n",
       "2  000026e7ee790996  verification   /m/0d5gx           0\n",
       "3  000026e7ee790996  verification   /m/07j7r           1\n",
       "4  000026e7ee790996  verification   /m/04rky           0"
      ]
     },
     "execution_count": 90,
     "metadata": {},
     "output_type": "execute_result"
    }
   ],
   "source": [
    "raw_image_labels.head()"
   ]
  },
  {
   "cell_type": "code",
   "execution_count": 91,
   "metadata": {
    "metadata": {}
   },
   "outputs": [
    {
     "data": {
      "text/html": [
       "<div>\n",
       "<style scoped>\n",
       "    .dataframe tbody tr th:only-of-type {\n",
       "        vertical-align: middle;\n",
       "    }\n",
       "\n",
       "    .dataframe tbody tr th {\n",
       "        vertical-align: top;\n",
       "    }\n",
       "\n",
       "    .dataframe thead th {\n",
       "        text-align: right;\n",
       "    }\n",
       "</style>\n",
       "<table border=\"1\" class=\"dataframe\">\n",
       "  <thead>\n",
       "    <tr style=\"text-align: right;\">\n",
       "      <th></th>\n",
       "      <th>ImageID</th>\n",
       "      <th>Source</th>\n",
       "      <th>LabelName</th>\n",
       "      <th>Confidence</th>\n",
       "      <th>XMin</th>\n",
       "      <th>XMax</th>\n",
       "      <th>YMin</th>\n",
       "      <th>YMax</th>\n",
       "      <th>IsOccluded</th>\n",
       "      <th>IsTruncated</th>\n",
       "      <th>IsGroupOf</th>\n",
       "      <th>IsDepiction</th>\n",
       "      <th>IsInside</th>\n",
       "    </tr>\n",
       "  </thead>\n",
       "  <tbody>\n",
       "    <tr>\n",
       "      <th>0</th>\n",
       "      <td>000026e7ee790996</td>\n",
       "      <td>xclick</td>\n",
       "      <td>/m/07j7r</td>\n",
       "      <td>1</td>\n",
       "      <td>0.071875</td>\n",
       "      <td>0.145313</td>\n",
       "      <td>0.206250</td>\n",
       "      <td>0.391667</td>\n",
       "      <td>0</td>\n",
       "      <td>1</td>\n",
       "      <td>1</td>\n",
       "      <td>0</td>\n",
       "      <td>0</td>\n",
       "    </tr>\n",
       "    <tr>\n",
       "      <th>1</th>\n",
       "      <td>000026e7ee790996</td>\n",
       "      <td>xclick</td>\n",
       "      <td>/m/07j7r</td>\n",
       "      <td>1</td>\n",
       "      <td>0.439063</td>\n",
       "      <td>0.571875</td>\n",
       "      <td>0.264583</td>\n",
       "      <td>0.435417</td>\n",
       "      <td>0</td>\n",
       "      <td>1</td>\n",
       "      <td>1</td>\n",
       "      <td>0</td>\n",
       "      <td>0</td>\n",
       "    </tr>\n",
       "    <tr>\n",
       "      <th>2</th>\n",
       "      <td>000026e7ee790996</td>\n",
       "      <td>xclick</td>\n",
       "      <td>/m/07j7r</td>\n",
       "      <td>1</td>\n",
       "      <td>0.668750</td>\n",
       "      <td>1.000000</td>\n",
       "      <td>0.000000</td>\n",
       "      <td>0.552083</td>\n",
       "      <td>0</td>\n",
       "      <td>1</td>\n",
       "      <td>1</td>\n",
       "      <td>0</td>\n",
       "      <td>0</td>\n",
       "    </tr>\n",
       "    <tr>\n",
       "      <th>3</th>\n",
       "      <td>000062a39995e348</td>\n",
       "      <td>xclick</td>\n",
       "      <td>/m/015p6</td>\n",
       "      <td>1</td>\n",
       "      <td>0.206208</td>\n",
       "      <td>0.849224</td>\n",
       "      <td>0.154639</td>\n",
       "      <td>1.000000</td>\n",
       "      <td>0</td>\n",
       "      <td>0</td>\n",
       "      <td>0</td>\n",
       "      <td>0</td>\n",
       "      <td>0</td>\n",
       "    </tr>\n",
       "    <tr>\n",
       "      <th>4</th>\n",
       "      <td>000062a39995e348</td>\n",
       "      <td>xclick</td>\n",
       "      <td>/m/05s2s</td>\n",
       "      <td>1</td>\n",
       "      <td>0.137472</td>\n",
       "      <td>0.376940</td>\n",
       "      <td>0.000000</td>\n",
       "      <td>0.883652</td>\n",
       "      <td>1</td>\n",
       "      <td>1</td>\n",
       "      <td>0</td>\n",
       "      <td>0</td>\n",
       "      <td>0</td>\n",
       "    </tr>\n",
       "  </tbody>\n",
       "</table>\n",
       "</div>"
      ],
      "text/plain": [
       "            ImageID  Source LabelName  Confidence      XMin      XMax  \\\n",
       "0  000026e7ee790996  xclick  /m/07j7r           1  0.071875  0.145313   \n",
       "1  000026e7ee790996  xclick  /m/07j7r           1  0.439063  0.571875   \n",
       "2  000026e7ee790996  xclick  /m/07j7r           1  0.668750  1.000000   \n",
       "3  000062a39995e348  xclick  /m/015p6           1  0.206208  0.849224   \n",
       "4  000062a39995e348  xclick  /m/05s2s           1  0.137472  0.376940   \n",
       "\n",
       "       YMin      YMax  IsOccluded  IsTruncated  IsGroupOf  IsDepiction  \\\n",
       "0  0.206250  0.391667           0            1          1            0   \n",
       "1  0.264583  0.435417           0            1          1            0   \n",
       "2  0.000000  0.552083           0            1          1            0   \n",
       "3  0.154639  1.000000           0            0          0            0   \n",
       "4  0.000000  0.883652           1            1          0            0   \n",
       "\n",
       "   IsInside  \n",
       "0         0  \n",
       "1         0  \n",
       "2         0  \n",
       "3         0  \n",
       "4         0  "
      ]
     },
     "execution_count": 91,
     "metadata": {},
     "output_type": "execute_result"
    }
   ],
   "source": [
    "raw_bbox_labels.head()"
   ]
  },
  {
   "cell_type": "markdown",
   "metadata": {},
   "source": [
    "the penguin id (found from the oldv7-class-descriptions-boxable.csv file):\\\n",
    "/m/05z6w"
   ]
  },
  {
   "cell_type": "code",
   "execution_count": 6,
   "metadata": {},
   "outputs": [],
   "source": [
    "# below you can also just make it image labels where LabelName is the same but the confidence score is also equal to 1\n",
    "# then you dont need to do the removing the rows thing"
   ]
  },
  {
   "cell_type": "code",
   "execution_count": 92,
   "metadata": {
    "metadata": {}
   },
   "outputs": [],
   "source": [
    "# create datasets that only contain entries with images in them\n",
    "penguin_image_labels = raw_image_labels[raw_image_labels['LabelName'] == '/m/05z6w']\n",
    "penguin_bbox_labels = raw_bbox_labels[raw_bbox_labels['LabelName'] == '/m/05z6w']"
   ]
  },
  {
   "cell_type": "code",
   "execution_count": 93,
   "metadata": {
    "metadata": {}
   },
   "outputs": [
    {
     "data": {
      "text/html": [
       "<div>\n",
       "<style scoped>\n",
       "    .dataframe tbody tr th:only-of-type {\n",
       "        vertical-align: middle;\n",
       "    }\n",
       "\n",
       "    .dataframe tbody tr th {\n",
       "        vertical-align: top;\n",
       "    }\n",
       "\n",
       "    .dataframe thead th {\n",
       "        text-align: right;\n",
       "    }\n",
       "</style>\n",
       "<table border=\"1\" class=\"dataframe\">\n",
       "  <thead>\n",
       "    <tr style=\"text-align: right;\">\n",
       "      <th></th>\n",
       "      <th>ImageID</th>\n",
       "      <th>Source</th>\n",
       "      <th>LabelName</th>\n",
       "      <th>Confidence</th>\n",
       "    </tr>\n",
       "  </thead>\n",
       "  <tbody>\n",
       "    <tr>\n",
       "      <th>6084</th>\n",
       "      <td>01e8e6894bf88777</td>\n",
       "      <td>verification</td>\n",
       "      <td>/m/05z6w</td>\n",
       "      <td>1</td>\n",
       "    </tr>\n",
       "    <tr>\n",
       "      <th>7654</th>\n",
       "      <td>025dfa9ea18bcb18</td>\n",
       "      <td>verification</td>\n",
       "      <td>/m/05z6w</td>\n",
       "      <td>0</td>\n",
       "    </tr>\n",
       "    <tr>\n",
       "      <th>14090</th>\n",
       "      <td>045f2a7a01277369</td>\n",
       "      <td>verification</td>\n",
       "      <td>/m/05z6w</td>\n",
       "      <td>0</td>\n",
       "    </tr>\n",
       "    <tr>\n",
       "      <th>17172</th>\n",
       "      <td>0555911ee31d049f</td>\n",
       "      <td>verification</td>\n",
       "      <td>/m/05z6w</td>\n",
       "      <td>0</td>\n",
       "    </tr>\n",
       "    <tr>\n",
       "      <th>24612</th>\n",
       "      <td>07ca230691eec10e</td>\n",
       "      <td>verification</td>\n",
       "      <td>/m/05z6w</td>\n",
       "      <td>1</td>\n",
       "    </tr>\n",
       "    <tr>\n",
       "      <th>...</th>\n",
       "      <td>...</td>\n",
       "      <td>...</td>\n",
       "      <td>...</td>\n",
       "      <td>...</td>\n",
       "    </tr>\n",
       "    <tr>\n",
       "      <th>482309</th>\n",
       "      <td>9ee32a851eba0eea</td>\n",
       "      <td>verification</td>\n",
       "      <td>/m/05z6w</td>\n",
       "      <td>1</td>\n",
       "    </tr>\n",
       "    <tr>\n",
       "      <th>492643</th>\n",
       "      <td>a25a74a471183cee</td>\n",
       "      <td>verification</td>\n",
       "      <td>/m/05z6w</td>\n",
       "      <td>1</td>\n",
       "    </tr>\n",
       "    <tr>\n",
       "      <th>495405</th>\n",
       "      <td>a32f24bc0220911f</td>\n",
       "      <td>verification</td>\n",
       "      <td>/m/05z6w</td>\n",
       "      <td>0</td>\n",
       "    </tr>\n",
       "    <tr>\n",
       "      <th>516197</th>\n",
       "      <td>a9ddfcc0e100968c</td>\n",
       "      <td>verification</td>\n",
       "      <td>/m/05z6w</td>\n",
       "      <td>1</td>\n",
       "    </tr>\n",
       "    <tr>\n",
       "      <th>516312</th>\n",
       "      <td>a9e4a8ab99442e99</td>\n",
       "      <td>verification</td>\n",
       "      <td>/m/05z6w</td>\n",
       "      <td>1</td>\n",
       "    </tr>\n",
       "  </tbody>\n",
       "</table>\n",
       "<p>97 rows × 4 columns</p>\n",
       "</div>"
      ],
      "text/plain": [
       "                 ImageID        Source LabelName  Confidence\n",
       "6084    01e8e6894bf88777  verification  /m/05z6w           1\n",
       "7654    025dfa9ea18bcb18  verification  /m/05z6w           0\n",
       "14090   045f2a7a01277369  verification  /m/05z6w           0\n",
       "17172   0555911ee31d049f  verification  /m/05z6w           0\n",
       "24612   07ca230691eec10e  verification  /m/05z6w           1\n",
       "...                  ...           ...       ...         ...\n",
       "482309  9ee32a851eba0eea  verification  /m/05z6w           1\n",
       "492643  a25a74a471183cee  verification  /m/05z6w           1\n",
       "495405  a32f24bc0220911f  verification  /m/05z6w           0\n",
       "516197  a9ddfcc0e100968c  verification  /m/05z6w           1\n",
       "516312  a9e4a8ab99442e99  verification  /m/05z6w           1\n",
       "\n",
       "[97 rows x 4 columns]"
      ]
     },
     "execution_count": 93,
     "metadata": {},
     "output_type": "execute_result"
    }
   ],
   "source": [
    "penguin_image_labels.head(97)"
   ]
  },
  {
   "cell_type": "code",
   "execution_count": 94,
   "metadata": {
    "metadata": {}
   },
   "outputs": [
    {
     "data": {
      "text/plain": [
       "(144, 4)"
      ]
     },
     "execution_count": 94,
     "metadata": {},
     "output_type": "execute_result"
    }
   ],
   "source": [
    "# get number of rows (number of images)\n",
    "penguin_image_labels.shape"
   ]
  },
  {
   "cell_type": "code",
   "execution_count": 95,
   "metadata": {
    "metadata": {}
   },
   "outputs": [
    {
     "data": {
      "text/html": [
       "<div>\n",
       "<style scoped>\n",
       "    .dataframe tbody tr th:only-of-type {\n",
       "        vertical-align: middle;\n",
       "    }\n",
       "\n",
       "    .dataframe tbody tr th {\n",
       "        vertical-align: top;\n",
       "    }\n",
       "\n",
       "    .dataframe thead th {\n",
       "        text-align: right;\n",
       "    }\n",
       "</style>\n",
       "<table border=\"1\" class=\"dataframe\">\n",
       "  <thead>\n",
       "    <tr style=\"text-align: right;\">\n",
       "      <th></th>\n",
       "      <th>ImageID</th>\n",
       "      <th>Source</th>\n",
       "      <th>LabelName</th>\n",
       "      <th>Confidence</th>\n",
       "      <th>XMin</th>\n",
       "      <th>XMax</th>\n",
       "      <th>YMin</th>\n",
       "      <th>YMax</th>\n",
       "      <th>IsOccluded</th>\n",
       "      <th>IsTruncated</th>\n",
       "      <th>IsGroupOf</th>\n",
       "      <th>IsDepiction</th>\n",
       "      <th>IsInside</th>\n",
       "    </tr>\n",
       "  </thead>\n",
       "  <tbody>\n",
       "    <tr>\n",
       "      <th>7934</th>\n",
       "      <td>01e8e6894bf88777</td>\n",
       "      <td>xclick</td>\n",
       "      <td>/m/05z6w</td>\n",
       "      <td>1</td>\n",
       "      <td>0.050186</td>\n",
       "      <td>0.899628</td>\n",
       "      <td>0.014035</td>\n",
       "      <td>0.843860</td>\n",
       "      <td>0</td>\n",
       "      <td>0</td>\n",
       "      <td>0</td>\n",
       "      <td>0</td>\n",
       "      <td>0</td>\n",
       "    </tr>\n",
       "    <tr>\n",
       "      <th>30971</th>\n",
       "      <td>07ca230691eec10e</td>\n",
       "      <td>xclick</td>\n",
       "      <td>/m/05z6w</td>\n",
       "      <td>1</td>\n",
       "      <td>0.000000</td>\n",
       "      <td>0.466814</td>\n",
       "      <td>0.625369</td>\n",
       "      <td>1.000000</td>\n",
       "      <td>1</td>\n",
       "      <td>1</td>\n",
       "      <td>0</td>\n",
       "      <td>0</td>\n",
       "      <td>0</td>\n",
       "    </tr>\n",
       "    <tr>\n",
       "      <th>30972</th>\n",
       "      <td>07ca230691eec10e</td>\n",
       "      <td>xclick</td>\n",
       "      <td>/m/05z6w</td>\n",
       "      <td>1</td>\n",
       "      <td>0.327434</td>\n",
       "      <td>0.761062</td>\n",
       "      <td>0.122419</td>\n",
       "      <td>0.501475</td>\n",
       "      <td>1</td>\n",
       "      <td>0</td>\n",
       "      <td>0</td>\n",
       "      <td>0</td>\n",
       "      <td>0</td>\n",
       "    </tr>\n",
       "    <tr>\n",
       "      <th>30973</th>\n",
       "      <td>07ca230691eec10e</td>\n",
       "      <td>xclick</td>\n",
       "      <td>/m/05z6w</td>\n",
       "      <td>1</td>\n",
       "      <td>0.396018</td>\n",
       "      <td>0.818584</td>\n",
       "      <td>0.215339</td>\n",
       "      <td>0.971976</td>\n",
       "      <td>0</td>\n",
       "      <td>0</td>\n",
       "      <td>0</td>\n",
       "      <td>0</td>\n",
       "      <td>0</td>\n",
       "    </tr>\n",
       "    <tr>\n",
       "      <th>37464</th>\n",
       "      <td>099862b891b82c9a</td>\n",
       "      <td>xclick</td>\n",
       "      <td>/m/05z6w</td>\n",
       "      <td>1</td>\n",
       "      <td>0.526549</td>\n",
       "      <td>0.621681</td>\n",
       "      <td>0.309735</td>\n",
       "      <td>0.401180</td>\n",
       "      <td>0</td>\n",
       "      <td>0</td>\n",
       "      <td>0</td>\n",
       "      <td>1</td>\n",
       "      <td>0</td>\n",
       "    </tr>\n",
       "  </tbody>\n",
       "</table>\n",
       "</div>"
      ],
      "text/plain": [
       "                ImageID  Source LabelName  Confidence      XMin      XMax  \\\n",
       "7934   01e8e6894bf88777  xclick  /m/05z6w           1  0.050186  0.899628   \n",
       "30971  07ca230691eec10e  xclick  /m/05z6w           1  0.000000  0.466814   \n",
       "30972  07ca230691eec10e  xclick  /m/05z6w           1  0.327434  0.761062   \n",
       "30973  07ca230691eec10e  xclick  /m/05z6w           1  0.396018  0.818584   \n",
       "37464  099862b891b82c9a  xclick  /m/05z6w           1  0.526549  0.621681   \n",
       "\n",
       "           YMin      YMax  IsOccluded  IsTruncated  IsGroupOf  IsDepiction  \\\n",
       "7934   0.014035  0.843860           0            0          0            0   \n",
       "30971  0.625369  1.000000           1            1          0            0   \n",
       "30972  0.122419  0.501475           1            0          0            0   \n",
       "30973  0.215339  0.971976           0            0          0            0   \n",
       "37464  0.309735  0.401180           0            0          0            1   \n",
       "\n",
       "       IsInside  \n",
       "7934          0  \n",
       "30971         0  \n",
       "30972         0  \n",
       "30973         0  \n",
       "37464         0  "
      ]
     },
     "execution_count": 95,
     "metadata": {},
     "output_type": "execute_result"
    }
   ],
   "source": [
    "penguin_bbox_labels.head()"
   ]
  },
  {
   "cell_type": "code",
   "execution_count": 96,
   "metadata": {
    "metadata": {}
   },
   "outputs": [
    {
     "data": {
      "text/plain": [
       "(165, 13)"
      ]
     },
     "execution_count": 96,
     "metadata": {},
     "output_type": "execute_result"
    }
   ],
   "source": [
    "# get number of rows (number of bboxs)\n",
    "penguin_bbox_labels.shape"
   ]
  },
  {
   "cell_type": "code",
   "execution_count": 97,
   "metadata": {
    "metadata": {}
   },
   "outputs": [],
   "source": [
    "# First I would like to just check that all the ids appear in both lists (sanity check)\n",
    "# I will remove anything that does not appear in both \n",
    "def check_id_presence_in_dfs(df1, df2, id_column, df1_name='df1', df2_name='df2'):\n",
    "    \"\"\"\n",
    "    Check and print IDs that are not present in both dataframes and put them in a list. prints and returns nothing if all ids are present.\n",
    "    \"\"\"\n",
    "    # Set of ids from each df\n",
    "    ids_df1 = set(df1[id_column])\n",
    "    ids_df2 = set(df2[id_column])\n",
    "\n",
    "    # create lists for ids to be removefd\n",
    "    df1_list_2remove = []\n",
    "    df2_list_2remove = []\n",
    "\n",
    "    # Find IDs that are only in df1\n",
    "    only_in_df1 = ids_df1 - ids_df2\n",
    "    if only_in_df1:\n",
    "        #print(f\"IDs only in {df1_name}:\")\n",
    "        for id_ in only_in_df1:\n",
    "            #print(id_)\n",
    "            df1_list_2remove.append(id_)\n",
    "\n",
    "    # Find IDs that are only in df2\n",
    "    only_in_df2 = ids_df2 - ids_df1\n",
    "    if only_in_df2:\n",
    "        #print(f\"IDs only in {df2_name}:\")\n",
    "        for id_ in only_in_df2:\n",
    "            #print(id_)\n",
    "            df2_list_2remove.append(id_)\n",
    "\n",
    "    return df1_list_2remove, df2_list_2remove"
   ]
  },
  {
   "cell_type": "code",
   "execution_count": 98,
   "metadata": {
    "metadata": {}
   },
   "outputs": [],
   "source": [
    "# if returns nothing then all images are present in both dfs\n",
    "penguin_image_labels_2remove, penguin_bbox_labels_2remove = check_id_presence_in_dfs(penguin_image_labels, penguin_bbox_labels, 'ImageID', 'label', 'bbox')"
   ]
  },
  {
   "cell_type": "code",
   "execution_count": 99,
   "metadata": {
    "metadata": {}
   },
   "outputs": [
    {
     "name": "stdout",
     "output_type": "stream",
     "text": [
      "47\n",
      "0\n"
     ]
    }
   ],
   "source": [
    "print(len(penguin_image_labels_2remove))\n",
    "print(len(penguin_bbox_labels_2remove))"
   ]
  },
  {
   "cell_type": "code",
   "execution_count": 100,
   "metadata": {
    "metadata": {}
   },
   "outputs": [],
   "source": [
    "# function to remove ids that don't appear in both lists\n",
    "def remove_entries_by_ids(df, id_list, id_column):\n",
    "    '''Removes rows from the DataFrame where the ID is in the provided list.'''\n",
    "    filtered_df = df[~df[id_column].isin(id_list)]\n",
    "    return filtered_df"
   ]
  },
  {
   "cell_type": "code",
   "execution_count": 101,
   "metadata": {
    "metadata": {}
   },
   "outputs": [],
   "source": [
    "penguin_image_labels = remove_entries_by_ids(penguin_image_labels, penguin_image_labels_2remove, 'ImageID')\n",
    "penguin_bbox_labels = remove_entries_by_ids(penguin_bbox_labels, penguin_bbox_labels_2remove, 'ImageID')"
   ]
  },
  {
   "cell_type": "code",
   "execution_count": 64,
   "metadata": {
    "metadata": {}
   },
   "outputs": [
    {
     "data": {
      "text/plain": [
       "(42, 4)"
      ]
     },
     "execution_count": 64,
     "metadata": {},
     "output_type": "execute_result"
    }
   ],
   "source": [
    "penguin_image_labels.shape"
   ]
  },
  {
   "cell_type": "code",
   "execution_count": 65,
   "metadata": {
    "metadata": {}
   },
   "outputs": [
    {
     "data": {
      "text/plain": [
       "(88, 13)"
      ]
     },
     "execution_count": 65,
     "metadata": {},
     "output_type": "execute_result"
    }
   ],
   "source": [
    "penguin_bbox_labels.shape"
   ]
  },
  {
   "cell_type": "markdown",
   "metadata": {},
   "source": [
    "#### creating the text file with a list of all the images the contain penguins and getting all the images from that and downloading those images to a folder - you only need to do this once for the test, train and val datasets on the ####"
   ]
  },
  {
   "cell_type": "code",
   "execution_count": 66,
   "metadata": {
    "metadata": {}
   },
   "outputs": [],
   "source": [
    "# create a text file with the following layout:\n",
    "#$SPLIT/$IMAGE_ID, where $SPLIT is either \"train\", \"test\", \"validation\", or \"challenge2018\"; and $IMAGE_ID is the image ID that uniquely identifies the image\n",
    "# so the text file will look like this:\n",
    "#train/f9e0434389a1d4dd\n",
    "#train/1a007563ebc18664\n",
    "#test/ea8bfd4e765304db\n",
    "# the following function should create the required text file:\n",
    "def write_ids_to_file(location, name, df):\n",
    "    \"\"\"\n",
    "    Writes entries to a text file where each entry is 'name/id' from the DataFrame's ID column.\n",
    "\n",
    "    :param location: String, the directory where the text file will be saved.\n",
    "    :param name: String, the name to be prefixed before each ID.\n",
    "    :param df: DataFrame, the dataframe containing an 'id' column.\n",
    "    \"\"\"\n",
    "    # Open a file at the specified location to write\n",
    "    with open(f\"{location}/{name}_ids.txt\", \"w\") as file:\n",
    "        # Loop through each id in the DataFrame\n",
    "        for id_ in df['ImageID']:\n",
    "            # Write formatted string to file\n",
    "            file.write(f\"{name}/{id_}\\n\")"
   ]
  },
  {
   "cell_type": "code",
   "execution_count": 102,
   "metadata": {},
   "outputs": [],
   "source": [
    "# call the above function for the test images\n",
    "# call the above function for the test images\n",
    "# call the above function for the test images\n",
    "write_ids_to_file(ROOT_RAW_OI7_PATH, 'test', penguin_image_labels)"
   ]
  },
  {
   "cell_type": "markdown",
   "metadata": {},
   "source": [
    "Now run the following command in the terminal:\\\n",
    "python3 /home/matthew/Desktop/Master_Dev/masters_penguin_pose_estimation/notebooks/OpenImagesV7_downloader.py /home/matthew/Desktop/Master_Dev/masters_penguin_pose_estimation/data/raw/OpenImagesV7/image_list_file.txt --download_folder=/home/matthew/Desktop/Master_Dev/masters_penguin_pose_estimation/data/raw/OpenImagesV7/OpenImageV7_raw_images --num_processes=5\n",
    "\n",
    "but replace image_list_file.txt with the name of the test file you just created.\\\n",
    "\\\n",
    "The images should be copied to the /home/matthew/Desktop/Master_Dev/masters_penguin_pose_estimation/data/raw/OpenImagesV7/OpenImageV7_raw_images directory "
   ]
  },
  {
   "cell_type": "code",
   "execution_count": 21,
   "metadata": {},
   "outputs": [
    {
     "name": "stdout",
     "output_type": "stream",
     "text": [
      "Empty DataFrame\n",
      "Columns: [ImageID, Source, LabelName, Confidence]\n",
      "Index: []\n"
     ]
    }
   ],
   "source": [
    "# this will allow you to see the row corresponding to the id provided\n",
    "input_id = '0d6a527e509d7e6e'\n",
    "matching_row = penguin_image_labels[penguin_image_labels['ImageID'] == input_id]\n",
    "print(matching_row)"
   ]
  },
  {
   "cell_type": "code",
   "execution_count": 22,
   "metadata": {},
   "outputs": [
    {
     "name": "stdout",
     "output_type": "stream",
     "text": [
      "Empty DataFrame\n",
      "Columns: [ImageID, Source, LabelName, Confidence, XMin, XMax, YMin, YMax, IsOccluded, IsTruncated, IsGroupOf, IsDepiction, IsInside, XClick1X, XClick2X, XClick3X, XClick4X, XClick1Y, XClick2Y, XClick3Y, XClick4Y]\n",
      "Index: []\n",
      "\n",
      "[0 rows x 21 columns]\n"
     ]
    }
   ],
   "source": [
    "# this will allow you to see the row corresponding to the id provided\n",
    "input_id = '0d6a527e509d7e6e'\n",
    "matching_row = penguin_bbox_labels[penguin_bbox_labels['ImageID'] == input_id]\n",
    "print(matching_row)"
   ]
  },
  {
   "cell_type": "markdown",
   "metadata": {},
   "source": [
    "#### Create the annotation files ####\n",
    "here we need to create a text file for each image with the following format for each bounding box in that image, where each bounding box is on a new line:\\\n",
    "0 x_centre_value y_centre_value width height \\\n",
    "\\\n",
    "note that all values are normalised between zero and 1"
   ]
  },
  {
   "cell_type": "markdown",
   "metadata": {},
   "source": [
    "##### convert the bboxs to Yolo format: XCentre YCentre Width Height and save these as new columns to the df and save that dataframe to a .json file - might need to convert it to a series first"
   ]
  },
  {
   "cell_type": "code",
   "execution_count": 24,
   "metadata": {},
   "outputs": [],
   "source": [
    "# first we need to create a function to get bounding boxes in an array in a format:\n",
    "# x1 y1 x2 y2\n",
    "# since the origin is in the top left corner, that is to say it must be:\n",
    "# XMin Ymin XMax YMax\n",
    "# test\n",
    "def extract_values_to_array(df, column_names):\n",
    "    \"\"\"\n",
    "    Extracts values from specified columns in a DataFrame and returns them as a numpy array.\n",
    "    \n",
    "    :param df: pandas DataFrame from which to extract values.\n",
    "    :param column_names: List of column names whose values are to be extracted.\n",
    "    :return: A numpy array with each row corresponding to the values from the specified columns in the DataFrame.\n",
    "    \"\"\" \n",
    "    # Extract the values as a numpy array\n",
    "    array_values = df[column_names].to_numpy()\n",
    "    \n",
    "    return array_values\n"
   ]
  },
  {
   "cell_type": "code",
   "execution_count": 69,
   "metadata": {},
   "outputs": [
    {
     "name": "stdout",
     "output_type": "stream",
     "text": [
      "[[          0    0.037611      0.9174           1]\n",
      " [  0.0088496    0.027982     0.77876           1]\n",
      " [    0.12708    0.071875     0.86875      0.9375]\n",
      " [    0.11406       0.125           1     0.70417]\n",
      " [    0.31061     0.11532      0.9072      0.9191]\n",
      " [     0.1418     0.40618     0.26145     0.84106]\n",
      " [      0.226     0.38411     0.34121     0.81457]\n",
      " [    0.41654     0.46358     0.54653     0.85872]\n",
      " [    0.56573     0.50993     0.70162     0.88079]\n",
      " [          0     0.10417     0.19531     0.97292]]\n"
     ]
    }
   ],
   "source": [
    "# use the above function to obtain the desired array\n",
    "list_col_to_extract = ['XMin', 'YMin', 'XMax', 'YMax']\n",
    "\n",
    "penguin_bbox_labels_arr = extract_values_to_array(penguin_bbox_labels,list_col_to_extract)\n",
    "\n",
    "print(penguin_bbox_labels_arr[0:10])"
   ]
  },
  {
   "cell_type": "code",
   "execution_count": 70,
   "metadata": {},
   "outputs": [
    {
     "name": "stdout",
     "output_type": "stream",
     "text": [
      "ImageID        0d2d4e6cefec6f87\n",
      "Source                   xclick\n",
      "LabelName              /m/05z6w\n",
      "Confidence                    1\n",
      "XMin                    0.00885\n",
      "XMax                   0.778761\n",
      "YMin                   0.027982\n",
      "YMax                        1.0\n",
      "IsOccluded                    0\n",
      "IsTruncated                   0\n",
      "IsGroupOf                     0\n",
      "IsDepiction                   0\n",
      "IsInside                      0\n",
      "Name: 15896, dtype: object\n"
     ]
    }
   ],
   "source": [
    "print(penguin_bbox_labels.iloc[1])\n",
    "# checking the output of the arrayh and it looks good"
   ]
  },
  {
   "cell_type": "code",
   "execution_count": 71,
   "metadata": {},
   "outputs": [],
   "source": [
    "# using the function from Yolo to convert from xyxy to xywh\n",
    "penguin_bbox_labels_arr_xywh = xyxy2xywh(penguin_bbox_labels_arr)"
   ]
  },
  {
   "cell_type": "code",
   "execution_count": 72,
   "metadata": {},
   "outputs": [
    {
     "name": "stdout",
     "output_type": "stream",
     "text": [
      "[[     0.4587     0.51881      0.9174     0.96239]\n",
      " [    0.39381     0.51399     0.76991     0.97202]\n",
      " [    0.49792     0.50469     0.74167     0.86562]\n",
      " [    0.55703     0.41458     0.88594     0.57917]\n",
      " [     0.6089     0.51721     0.59659     0.80379]\n",
      " [    0.20162     0.62362     0.11965     0.43488]\n",
      " [     0.2836     0.59934     0.11521     0.43046]\n",
      " [    0.48154     0.66115     0.12999     0.39514]\n",
      " [    0.63368     0.69536     0.13589     0.37086]\n",
      " [   0.097656     0.53854     0.19531     0.86875]]\n"
     ]
    }
   ],
   "source": [
    "print(penguin_bbox_labels_arr_xywh[0:10])"
   ]
  },
  {
   "cell_type": "code",
   "execution_count": 73,
   "metadata": {},
   "outputs": [
    {
     "name": "stdout",
     "output_type": "stream",
     "text": [
      "0.45870205\n",
      "0.51880531\n",
      "0.9174041\n",
      "0.96238938\n"
     ]
    }
   ],
   "source": [
    "# check the first entry is correct\n",
    "# check centre x \n",
    "print(((penguin_bbox_labels_arr[0, 2] - penguin_bbox_labels_arr[0, 0])/2)+penguin_bbox_labels_arr[0, 0])\n",
    "# check centre y \n",
    "print(((penguin_bbox_labels_arr[0, 3] - penguin_bbox_labels_arr[0, 1])/2)+penguin_bbox_labels_arr[0, 1])\n",
    "# check centre w \n",
    "print((penguin_bbox_labels_arr[0, 2] - penguin_bbox_labels_arr[0, 0]))\n",
    "# check centre h\n",
    "print((penguin_bbox_labels_arr[0, 3] - penguin_bbox_labels_arr[0, 1]))"
   ]
  },
  {
   "cell_type": "code",
   "execution_count": 74,
   "metadata": {},
   "outputs": [],
   "source": [
    "# convert arr to df and specify the column names\n",
    "new_cols = ['XCentre', 'YCentre', 'Width', 'Height']\n",
    "penguin_bbox_labels_arr_xywh_df = pd.DataFrame(penguin_bbox_labels_arr_xywh, columns=new_cols, index=penguin_bbox_labels.index)"
   ]
  },
  {
   "cell_type": "code",
   "execution_count": 75,
   "metadata": {},
   "outputs": [
    {
     "data": {
      "text/html": [
       "<div>\n",
       "<style scoped>\n",
       "    .dataframe tbody tr th:only-of-type {\n",
       "        vertical-align: middle;\n",
       "    }\n",
       "\n",
       "    .dataframe tbody tr th {\n",
       "        vertical-align: top;\n",
       "    }\n",
       "\n",
       "    .dataframe thead th {\n",
       "        text-align: right;\n",
       "    }\n",
       "</style>\n",
       "<table border=\"1\" class=\"dataframe\">\n",
       "  <thead>\n",
       "    <tr style=\"text-align: right;\">\n",
       "      <th></th>\n",
       "      <th>XCentre</th>\n",
       "      <th>YCentre</th>\n",
       "      <th>Width</th>\n",
       "      <th>Height</th>\n",
       "    </tr>\n",
       "  </thead>\n",
       "  <tbody>\n",
       "    <tr>\n",
       "      <th>3242</th>\n",
       "      <td>0.458702</td>\n",
       "      <td>0.518805</td>\n",
       "      <td>0.917404</td>\n",
       "      <td>0.962389</td>\n",
       "    </tr>\n",
       "    <tr>\n",
       "      <th>15896</th>\n",
       "      <td>0.393805</td>\n",
       "      <td>0.513991</td>\n",
       "      <td>0.769912</td>\n",
       "      <td>0.972018</td>\n",
       "    </tr>\n",
       "    <tr>\n",
       "      <th>26473</th>\n",
       "      <td>0.497917</td>\n",
       "      <td>0.504687</td>\n",
       "      <td>0.741667</td>\n",
       "      <td>0.865625</td>\n",
       "    </tr>\n",
       "    <tr>\n",
       "      <th>35255</th>\n",
       "      <td>0.557031</td>\n",
       "      <td>0.414583</td>\n",
       "      <td>0.885938</td>\n",
       "      <td>0.579167</td>\n",
       "    </tr>\n",
       "    <tr>\n",
       "      <th>35636</th>\n",
       "      <td>0.608902</td>\n",
       "      <td>0.517212</td>\n",
       "      <td>0.596591</td>\n",
       "      <td>0.803787</td>\n",
       "    </tr>\n",
       "  </tbody>\n",
       "</table>\n",
       "</div>"
      ],
      "text/plain": [
       "        XCentre   YCentre     Width    Height\n",
       "3242   0.458702  0.518805  0.917404  0.962389\n",
       "15896  0.393805  0.513991  0.769912  0.972018\n",
       "26473  0.497917  0.504687  0.741667  0.865625\n",
       "35255  0.557031  0.414583  0.885938  0.579167\n",
       "35636  0.608902  0.517212  0.596591  0.803787"
      ]
     },
     "execution_count": 75,
     "metadata": {},
     "output_type": "execute_result"
    }
   ],
   "source": [
    "penguin_bbox_labels_arr_xywh_df.head()"
   ]
  },
  {
   "cell_type": "code",
   "execution_count": 76,
   "metadata": {},
   "outputs": [
    {
     "data": {
      "text/plain": [
       "(88, 13)"
      ]
     },
     "execution_count": 76,
     "metadata": {},
     "output_type": "execute_result"
    }
   ],
   "source": [
    "penguin_bbox_labels.shape"
   ]
  },
  {
   "cell_type": "code",
   "execution_count": 77,
   "metadata": {},
   "outputs": [
    {
     "data": {
      "text/plain": [
       "(88, 4)"
      ]
     },
     "execution_count": 77,
     "metadata": {},
     "output_type": "execute_result"
    }
   ],
   "source": [
    "penguin_bbox_labels_arr_xywh_df.shape"
   ]
  },
  {
   "cell_type": "code",
   "execution_count": 78,
   "metadata": {},
   "outputs": [],
   "source": [
    "# concat new df to the end of the original df\n",
    "penguin_bbox_labels_xywh = pd.concat([penguin_bbox_labels, penguin_bbox_labels_arr_xywh_df], axis=1)"
   ]
  },
  {
   "cell_type": "code",
   "execution_count": 79,
   "metadata": {},
   "outputs": [
    {
     "data": {
      "text/html": [
       "<div>\n",
       "<style scoped>\n",
       "    .dataframe tbody tr th:only-of-type {\n",
       "        vertical-align: middle;\n",
       "    }\n",
       "\n",
       "    .dataframe tbody tr th {\n",
       "        vertical-align: top;\n",
       "    }\n",
       "\n",
       "    .dataframe thead th {\n",
       "        text-align: right;\n",
       "    }\n",
       "</style>\n",
       "<table border=\"1\" class=\"dataframe\">\n",
       "  <thead>\n",
       "    <tr style=\"text-align: right;\">\n",
       "      <th></th>\n",
       "      <th>ImageID</th>\n",
       "      <th>Source</th>\n",
       "      <th>LabelName</th>\n",
       "      <th>Confidence</th>\n",
       "      <th>XMin</th>\n",
       "      <th>XMax</th>\n",
       "      <th>YMin</th>\n",
       "      <th>YMax</th>\n",
       "      <th>IsOccluded</th>\n",
       "      <th>IsTruncated</th>\n",
       "      <th>IsGroupOf</th>\n",
       "      <th>IsDepiction</th>\n",
       "      <th>IsInside</th>\n",
       "      <th>XCentre</th>\n",
       "      <th>YCentre</th>\n",
       "      <th>Width</th>\n",
       "      <th>Height</th>\n",
       "    </tr>\n",
       "  </thead>\n",
       "  <tbody>\n",
       "    <tr>\n",
       "      <th>3242</th>\n",
       "      <td>028d762d6716abdf</td>\n",
       "      <td>xclick</td>\n",
       "      <td>/m/05z6w</td>\n",
       "      <td>1</td>\n",
       "      <td>0.000000</td>\n",
       "      <td>0.917404</td>\n",
       "      <td>0.037611</td>\n",
       "      <td>1.000000</td>\n",
       "      <td>0</td>\n",
       "      <td>1</td>\n",
       "      <td>0</td>\n",
       "      <td>0</td>\n",
       "      <td>0</td>\n",
       "      <td>0.458702</td>\n",
       "      <td>0.518805</td>\n",
       "      <td>0.917404</td>\n",
       "      <td>0.962389</td>\n",
       "    </tr>\n",
       "    <tr>\n",
       "      <th>15896</th>\n",
       "      <td>0d2d4e6cefec6f87</td>\n",
       "      <td>xclick</td>\n",
       "      <td>/m/05z6w</td>\n",
       "      <td>1</td>\n",
       "      <td>0.008850</td>\n",
       "      <td>0.778761</td>\n",
       "      <td>0.027982</td>\n",
       "      <td>1.000000</td>\n",
       "      <td>0</td>\n",
       "      <td>0</td>\n",
       "      <td>0</td>\n",
       "      <td>0</td>\n",
       "      <td>0</td>\n",
       "      <td>0.393805</td>\n",
       "      <td>0.513991</td>\n",
       "      <td>0.769912</td>\n",
       "      <td>0.972018</td>\n",
       "    </tr>\n",
       "    <tr>\n",
       "      <th>26473</th>\n",
       "      <td>1654d220ef8dfb40</td>\n",
       "      <td>xclick</td>\n",
       "      <td>/m/05z6w</td>\n",
       "      <td>1</td>\n",
       "      <td>0.127083</td>\n",
       "      <td>0.868750</td>\n",
       "      <td>0.071875</td>\n",
       "      <td>0.937500</td>\n",
       "      <td>0</td>\n",
       "      <td>0</td>\n",
       "      <td>0</td>\n",
       "      <td>0</td>\n",
       "      <td>0</td>\n",
       "      <td>0.497917</td>\n",
       "      <td>0.504687</td>\n",
       "      <td>0.741667</td>\n",
       "      <td>0.865625</td>\n",
       "    </tr>\n",
       "    <tr>\n",
       "      <th>35255</th>\n",
       "      <td>1d9ddcae0b59b04c</td>\n",
       "      <td>xclick</td>\n",
       "      <td>/m/05z6w</td>\n",
       "      <td>1</td>\n",
       "      <td>0.114062</td>\n",
       "      <td>1.000000</td>\n",
       "      <td>0.125000</td>\n",
       "      <td>0.704167</td>\n",
       "      <td>0</td>\n",
       "      <td>0</td>\n",
       "      <td>1</td>\n",
       "      <td>0</td>\n",
       "      <td>0</td>\n",
       "      <td>0.557031</td>\n",
       "      <td>0.414583</td>\n",
       "      <td>0.885938</td>\n",
       "      <td>0.579167</td>\n",
       "    </tr>\n",
       "    <tr>\n",
       "      <th>35636</th>\n",
       "      <td>1e20429aac140db6</td>\n",
       "      <td>xclick</td>\n",
       "      <td>/m/05z6w</td>\n",
       "      <td>1</td>\n",
       "      <td>0.310606</td>\n",
       "      <td>0.907197</td>\n",
       "      <td>0.115318</td>\n",
       "      <td>0.919105</td>\n",
       "      <td>0</td>\n",
       "      <td>0</td>\n",
       "      <td>0</td>\n",
       "      <td>0</td>\n",
       "      <td>0</td>\n",
       "      <td>0.608902</td>\n",
       "      <td>0.517212</td>\n",
       "      <td>0.596591</td>\n",
       "      <td>0.803787</td>\n",
       "    </tr>\n",
       "  </tbody>\n",
       "</table>\n",
       "</div>"
      ],
      "text/plain": [
       "                ImageID  Source LabelName  Confidence      XMin      XMax  \\\n",
       "3242   028d762d6716abdf  xclick  /m/05z6w           1  0.000000  0.917404   \n",
       "15896  0d2d4e6cefec6f87  xclick  /m/05z6w           1  0.008850  0.778761   \n",
       "26473  1654d220ef8dfb40  xclick  /m/05z6w           1  0.127083  0.868750   \n",
       "35255  1d9ddcae0b59b04c  xclick  /m/05z6w           1  0.114062  1.000000   \n",
       "35636  1e20429aac140db6  xclick  /m/05z6w           1  0.310606  0.907197   \n",
       "\n",
       "           YMin      YMax  IsOccluded  IsTruncated  IsGroupOf  IsDepiction  \\\n",
       "3242   0.037611  1.000000           0            1          0            0   \n",
       "15896  0.027982  1.000000           0            0          0            0   \n",
       "26473  0.071875  0.937500           0            0          0            0   \n",
       "35255  0.125000  0.704167           0            0          1            0   \n",
       "35636  0.115318  0.919105           0            0          0            0   \n",
       "\n",
       "       IsInside   XCentre   YCentre     Width    Height  \n",
       "3242          0  0.458702  0.518805  0.917404  0.962389  \n",
       "15896         0  0.393805  0.513991  0.769912  0.972018  \n",
       "26473         0  0.497917  0.504687  0.741667  0.865625  \n",
       "35255         0  0.557031  0.414583  0.885938  0.579167  \n",
       "35636         0  0.608902  0.517212  0.596591  0.803787  "
      ]
     },
     "execution_count": 79,
     "metadata": {},
     "output_type": "execute_result"
    }
   ],
   "source": [
    "penguin_bbox_labels_xywh.head()"
   ]
  },
  {
   "cell_type": "code",
   "execution_count": 80,
   "metadata": {},
   "outputs": [
    {
     "data": {
      "text/plain": [
       "(88, 17)"
      ]
     },
     "execution_count": 80,
     "metadata": {},
     "output_type": "execute_result"
    }
   ],
   "source": [
    "penguin_bbox_labels_xywh.shape"
   ]
  },
  {
   "cell_type": "code",
   "execution_count": 81,
   "metadata": {},
   "outputs": [],
   "source": [
    "# now save it as a .json file so we dont have to do this again\n",
    "# we will use the orient = 'records' as this is the default and\n",
    "# the most common\n",
    "json_path_parent = '/home/matthew/Desktop/Master_Dev/masters_penguin_pose_estimation/data/raw/OpenImagesV7'\n",
    "json_path = f'{json_path_parent}/validation_full_annotation.json'\n",
    "\n",
    "penguin_bbox_labels_xywh.to_json(json_path, orient='records')"
   ]
  },
  {
   "cell_type": "markdown",
   "metadata": {},
   "source": [
    "##### Run the below to load the full annotations to a df #####"
   ]
  },
  {
   "cell_type": "code",
   "execution_count": null,
   "metadata": {},
   "outputs": [],
   "source": [
    "# the following code will read a .json file to a df\n",
    "# just uncomment and run the code below changing the name of the json file\n",
    "# json_path = ''/home/matthew/Desktop/Master_Dev/masters_penguin_pose_estimation/data/raw/OpenImagesV7/test_full_annotation.json'\n",
    "# df = pd.read_json_into_df(json_path, orient='records')"
   ]
  },
  {
   "cell_type": "markdown",
   "metadata": {},
   "source": [
    "##### step through the df and create a text file for each unique instance of an image id then add: 0 XCentre YCentre Width Height as a new line for each bounding box for a specific image id #####"
   ]
  },
  {
   "cell_type": "code",
   "execution_count": 82,
   "metadata": {},
   "outputs": [],
   "source": [
    "# create a function \n",
    "def df_to_YOLO_txt_file(df, txt_file_path_parent):\n",
    "    # step through the df\n",
    "    for index, entry in df.iterrows():\n",
    "        # get info from entry\n",
    "        ImageID = entry['ImageID']\n",
    "        XCentre = entry['XCentre']\n",
    "        YCentre = entry['YCentre']\n",
    "        Width = entry['Width']\n",
    "        Height = entry['Height']\n",
    "\n",
    "        txt_file_path = f'{txt_file_path_parent}/{ImageID}.txt'\n",
    "\n",
    "        # write info to text file in desired format\n",
    "        with open(txt_file_path, 'a') as file:\n",
    "            file.write(f'0 {XCentre} {YCentre} {Width} {Height}\\n')\n"
   ]
  },
  {
   "cell_type": "code",
   "execution_count": 83,
   "metadata": {},
   "outputs": [
    {
     "data": {
      "text/plain": [
       "(42, 4)"
      ]
     },
     "execution_count": 83,
     "metadata": {},
     "output_type": "execute_result"
    }
   ],
   "source": [
    "# before running the below you need to check the number of files\n",
    "# in the destination folder so you can see that the correct number of \n",
    "# txt files have been made (should = number of penguin_image_label)\n",
    "penguin_image_labels.shape"
   ]
  },
  {
   "cell_type": "code",
   "execution_count": 84,
   "metadata": {},
   "outputs": [],
   "source": [
    "txt_file_path_parent = '/home/matthew/Desktop/Master_Dev/masters_penguin_pose_estimation/data/raw/OpenImagesV7/OI7_Yolo_annotations'\n",
    "df_to_YOLO_txt_file(penguin_bbox_labels_xywh, txt_file_path_parent)"
   ]
  },
  {
   "cell_type": "code",
   "execution_count": null,
   "metadata": {},
   "outputs": [],
   "source": [
    "# now check the number of files in the folder (just use file explorer)"
   ]
  },
  {
   "cell_type": "markdown",
   "metadata": {},
   "source": [
    "#### View the results to check they are correct ####"
   ]
  },
  {
   "cell_type": "markdown",
   "metadata": {},
   "source": [
    "##### attempt to use supervision #####"
   ]
  },
  {
   "cell_type": "code",
   "execution_count": 91,
   "metadata": {},
   "outputs": [],
   "source": [
    "image = cv.imread('/home/matthew/Desktop/Master_Dev/masters_penguin_pose_estimation/data/raw/OpenImagesV7/OpenImageV7_raw_images/3df173193a2bac8b.jpg')\n",
    "ann = Annotator(image)\n",
    "txt_path = '/home/matthew/Desktop/Master_Dev/masters_penguin_pose_estimation/data/raw/OpenImagesV7/OI7_Yolo_annotations/3df173193a2bac8b.txt'\n",
    "bbox_arr = np.loadtxt(txt_path, dtype=np.float16, delimiter=' ', usecols=(1,2,3,4))\n",
    "bbox_tensor = torch.from_numpy(bbox_arr)\n",
    "bbox_dict = {'predictions': tuple(row[:]) for row in bbox_arr}"
   ]
  },
  {
   "cell_type": "code",
   "execution_count": 92,
   "metadata": {},
   "outputs": [
    {
     "name": "stdout",
     "output_type": "stream",
     "text": [
      "[[    0.40332     0.75977    0.051636     0.16589]\n",
      " [    0.51172     0.79297    0.097351     0.16589]\n",
      " [    0.58545     0.77637    0.061951     0.15491]]\n",
      "tensor([[0.4033, 0.7598, 0.0516, 0.1659],\n",
      "        [0.5117, 0.7930, 0.0974, 0.1659],\n",
      "        [0.5854, 0.7764, 0.0620, 0.1549]], dtype=torch.float16)\n",
      "{'predictions': (0.5854, 0.7764, 0.06195, 0.1549)}\n"
     ]
    }
   ],
   "source": [
    "print(bbox_arr)\n",
    "print(bbox_tensor)\n",
    "print(bbox_dict)"
   ]
  },
  {
   "cell_type": "code",
   "execution_count": 93,
   "metadata": {},
   "outputs": [
    {
     "ename": "KeyError",
     "evalue": "'image'",
     "output_type": "error",
     "traceback": [
      "\u001b[0;31m---------------------------------------------------------------------------\u001b[0m",
      "\u001b[0;31mKeyError\u001b[0m                                  Traceback (most recent call last)",
      "Cell \u001b[0;32mIn[93], line 1\u001b[0m\n\u001b[0;32m----> 1\u001b[0m detect1 \u001b[38;5;241m=\u001b[39m \u001b[43msv\u001b[49m\u001b[38;5;241;43m.\u001b[39;49m\u001b[43mDetections\u001b[49m\u001b[38;5;241;43m.\u001b[39;49m\u001b[43mfrom_inference\u001b[49m\u001b[43m(\u001b[49m\u001b[43mbbox_dict\u001b[49m\u001b[43m)\u001b[49m\n",
      "File \u001b[0;32m~/Desktop/Master_Dev/masters_penguin_pose_estimation/env/lib/python3.8/site-packages/supervision/detection/core.py:577\u001b[0m, in \u001b[0;36mDetections.from_inference\u001b[0;34m(cls, roboflow_result)\u001b[0m\n\u001b[1;32m    575\u001b[0m \u001b[38;5;28;01mwith\u001b[39;00m suppress(\u001b[38;5;167;01mAttributeError\u001b[39;00m):\n\u001b[1;32m    576\u001b[0m     roboflow_result \u001b[38;5;241m=\u001b[39m roboflow_result\u001b[38;5;241m.\u001b[39mdict(exclude_none\u001b[38;5;241m=\u001b[39m\u001b[38;5;28;01mTrue\u001b[39;00m, by_alias\u001b[38;5;241m=\u001b[39m\u001b[38;5;28;01mTrue\u001b[39;00m)\n\u001b[0;32m--> 577\u001b[0m xyxy, confidence, class_id, masks, trackers, data \u001b[38;5;241m=\u001b[39m \u001b[43mprocess_roboflow_result\u001b[49m\u001b[43m(\u001b[49m\n\u001b[1;32m    578\u001b[0m \u001b[43m    \u001b[49m\u001b[43mroboflow_result\u001b[49m\u001b[38;5;241;43m=\u001b[39;49m\u001b[43mroboflow_result\u001b[49m\n\u001b[1;32m    579\u001b[0m \u001b[43m\u001b[49m\u001b[43m)\u001b[49m\n\u001b[1;32m    581\u001b[0m \u001b[38;5;28;01mif\u001b[39;00m np\u001b[38;5;241m.\u001b[39masarray(xyxy)\u001b[38;5;241m.\u001b[39mshape[\u001b[38;5;241m0\u001b[39m] \u001b[38;5;241m==\u001b[39m \u001b[38;5;241m0\u001b[39m:\n\u001b[1;32m    582\u001b[0m     empty_detection \u001b[38;5;241m=\u001b[39m \u001b[38;5;28mcls\u001b[39m\u001b[38;5;241m.\u001b[39mempty()\n",
      "File \u001b[0;32m~/Desktop/Master_Dev/masters_penguin_pose_estimation/env/lib/python3.8/site-packages/supervision/detection/utils.py:522\u001b[0m, in \u001b[0;36mprocess_roboflow_result\u001b[0;34m(roboflow_result)\u001b[0m\n\u001b[1;32m    519\u001b[0m masks \u001b[38;5;241m=\u001b[39m []\n\u001b[1;32m    520\u001b[0m tracker_ids \u001b[38;5;241m=\u001b[39m []\n\u001b[0;32m--> 522\u001b[0m image_width \u001b[38;5;241m=\u001b[39m \u001b[38;5;28mint\u001b[39m(\u001b[43mroboflow_result\u001b[49m\u001b[43m[\u001b[49m\u001b[38;5;124;43m\"\u001b[39;49m\u001b[38;5;124;43mimage\u001b[39;49m\u001b[38;5;124;43m\"\u001b[39;49m\u001b[43m]\u001b[49m[\u001b[38;5;124m\"\u001b[39m\u001b[38;5;124mwidth\u001b[39m\u001b[38;5;124m\"\u001b[39m])\n\u001b[1;32m    523\u001b[0m image_height \u001b[38;5;241m=\u001b[39m \u001b[38;5;28mint\u001b[39m(roboflow_result[\u001b[38;5;124m\"\u001b[39m\u001b[38;5;124mimage\u001b[39m\u001b[38;5;124m\"\u001b[39m][\u001b[38;5;124m\"\u001b[39m\u001b[38;5;124mheight\u001b[39m\u001b[38;5;124m\"\u001b[39m])\n\u001b[1;32m    525\u001b[0m \u001b[38;5;28;01mfor\u001b[39;00m prediction \u001b[38;5;129;01min\u001b[39;00m roboflow_result[\u001b[38;5;124m\"\u001b[39m\u001b[38;5;124mpredictions\u001b[39m\u001b[38;5;124m\"\u001b[39m]:\n",
      "\u001b[0;31mKeyError\u001b[0m: 'image'"
     ]
    }
   ],
   "source": [
    "detect1 = sv.Detections.from_inference(bbox_dict)"
   ]
  },
  {
   "cell_type": "code",
   "execution_count": 82,
   "metadata": {},
   "outputs": [
    {
     "ename": "AttributeError",
     "evalue": "'Tensor' object has no attribute 'xyxy'",
     "output_type": "error",
     "traceback": [
      "\u001b[0;31m---------------------------------------------------------------------------\u001b[0m",
      "\u001b[0;31mAttributeError\u001b[0m                            Traceback (most recent call last)",
      "Cell \u001b[0;32mIn[82], line 2\u001b[0m\n\u001b[1;32m      1\u001b[0m box_annotator \u001b[38;5;241m=\u001b[39m sv\u001b[38;5;241m.\u001b[39mBoundingBoxAnnotator()\n\u001b[0;32m----> 2\u001b[0m annotated_frame \u001b[38;5;241m=\u001b[39m \u001b[43mbox_annotator\u001b[49m\u001b[38;5;241;43m.\u001b[39;49m\u001b[43mannotate\u001b[49m\u001b[43m(\u001b[49m\u001b[43mimage\u001b[49m\u001b[38;5;241;43m.\u001b[39;49m\u001b[43mcopy\u001b[49m\u001b[43m(\u001b[49m\u001b[43m)\u001b[49m\u001b[43m,\u001b[49m\u001b[43m \u001b[49m\u001b[43mdetections\u001b[49m\u001b[38;5;241;43m=\u001b[39;49m\u001b[43mbbox_tensor\u001b[49m\u001b[43m)\u001b[49m\n\u001b[1;32m      3\u001b[0m sv\u001b[38;5;241m.\u001b[39mplot_image(image\u001b[38;5;241m=\u001b[39mannotated_frame, size\u001b[38;5;241m=\u001b[39m(\u001b[38;5;241m16\u001b[39m, \u001b[38;5;241m16\u001b[39m))\n",
      "File \u001b[0;32m~/Desktop/Master_Dev/masters_penguin_pose_estimation/env/lib/python3.8/site-packages/supervision/utils/conversion.py:21\u001b[0m, in \u001b[0;36mconvert_for_annotation_method.<locals>.wrapper\u001b[0;34m(self, scene, *args, **kwargs)\u001b[0m\n\u001b[1;32m     18\u001b[0m \u001b[38;5;129m@wraps\u001b[39m(annotate_func)\n\u001b[1;32m     19\u001b[0m \u001b[38;5;28;01mdef\u001b[39;00m \u001b[38;5;21mwrapper\u001b[39m(\u001b[38;5;28mself\u001b[39m, scene: ImageType, \u001b[38;5;241m*\u001b[39margs, \u001b[38;5;241m*\u001b[39m\u001b[38;5;241m*\u001b[39mkwargs):\n\u001b[1;32m     20\u001b[0m     \u001b[38;5;28;01mif\u001b[39;00m \u001b[38;5;28misinstance\u001b[39m(scene, np\u001b[38;5;241m.\u001b[39mndarray):\n\u001b[0;32m---> 21\u001b[0m         \u001b[38;5;28;01mreturn\u001b[39;00m \u001b[43mannotate_func\u001b[49m\u001b[43m(\u001b[49m\u001b[38;5;28;43mself\u001b[39;49m\u001b[43m,\u001b[49m\u001b[43m \u001b[49m\u001b[43mscene\u001b[49m\u001b[43m,\u001b[49m\u001b[43m \u001b[49m\u001b[38;5;241;43m*\u001b[39;49m\u001b[43margs\u001b[49m\u001b[43m,\u001b[49m\u001b[43m \u001b[49m\u001b[38;5;241;43m*\u001b[39;49m\u001b[38;5;241;43m*\u001b[39;49m\u001b[43mkwargs\u001b[49m\u001b[43m)\u001b[49m\n\u001b[1;32m     23\u001b[0m     \u001b[38;5;28;01mif\u001b[39;00m \u001b[38;5;28misinstance\u001b[39m(scene, Image\u001b[38;5;241m.\u001b[39mImage):\n\u001b[1;32m     24\u001b[0m         scene \u001b[38;5;241m=\u001b[39m pillow_to_cv2(scene)\n",
      "File \u001b[0;32m~/Desktop/Master_Dev/masters_penguin_pose_estimation/env/lib/python3.8/site-packages/supervision/annotators/core.py:81\u001b[0m, in \u001b[0;36mBoundingBoxAnnotator.annotate\u001b[0;34m(self, scene, detections, custom_color_lookup)\u001b[0m\n\u001b[1;32m     49\u001b[0m \u001b[38;5;250m\u001b[39m\u001b[38;5;124;03m\"\"\"\u001b[39;00m\n\u001b[1;32m     50\u001b[0m \u001b[38;5;124;03mAnnotates the given scene with bounding boxes based on the provided detections.\u001b[39;00m\n\u001b[1;32m     51\u001b[0m \n\u001b[0;32m   (...)\u001b[0m\n\u001b[1;32m     78\u001b[0m \u001b[38;5;124;03msupervision-annotator-examples/bounding-box-annotator-example-purple.png)\u001b[39;00m\n\u001b[1;32m     79\u001b[0m \u001b[38;5;124;03m\"\"\"\u001b[39;00m\n\u001b[1;32m     80\u001b[0m \u001b[38;5;28;01mfor\u001b[39;00m detection_idx \u001b[38;5;129;01min\u001b[39;00m \u001b[38;5;28mrange\u001b[39m(\u001b[38;5;28mlen\u001b[39m(detections)):\n\u001b[0;32m---> 81\u001b[0m     x1, y1, x2, y2 \u001b[38;5;241m=\u001b[39m \u001b[43mdetections\u001b[49m\u001b[38;5;241;43m.\u001b[39;49m\u001b[43mxyxy\u001b[49m[detection_idx]\u001b[38;5;241m.\u001b[39mastype(\u001b[38;5;28mint\u001b[39m)\n\u001b[1;32m     82\u001b[0m     color \u001b[38;5;241m=\u001b[39m resolve_color(\n\u001b[1;32m     83\u001b[0m         color\u001b[38;5;241m=\u001b[39m\u001b[38;5;28mself\u001b[39m\u001b[38;5;241m.\u001b[39mcolor,\n\u001b[1;32m     84\u001b[0m         detections\u001b[38;5;241m=\u001b[39mdetections,\n\u001b[0;32m   (...)\u001b[0m\n\u001b[1;32m     88\u001b[0m         \u001b[38;5;28;01melse\u001b[39;00m custom_color_lookup,\n\u001b[1;32m     89\u001b[0m     )\n\u001b[1;32m     90\u001b[0m     cv2\u001b[38;5;241m.\u001b[39mrectangle(\n\u001b[1;32m     91\u001b[0m         img\u001b[38;5;241m=\u001b[39mscene,\n\u001b[1;32m     92\u001b[0m         pt1\u001b[38;5;241m=\u001b[39m(x1, y1),\n\u001b[0;32m   (...)\u001b[0m\n\u001b[1;32m     95\u001b[0m         thickness\u001b[38;5;241m=\u001b[39m\u001b[38;5;28mself\u001b[39m\u001b[38;5;241m.\u001b[39mthickness,\n\u001b[1;32m     96\u001b[0m     )\n",
      "\u001b[0;31mAttributeError\u001b[0m: 'Tensor' object has no attribute 'xyxy'"
     ]
    }
   ],
   "source": [
    "box_annotator = sv.BoundingBoxAnnotator()\n",
    "annotated_frame = box_annotator.annotate(image.copy(), detections=bbox_tensor)\n",
    "sv.plot_image(image=annotated_frame, size=(16, 16))"
   ]
  },
  {
   "cell_type": "markdown",
   "metadata": {},
   "source": [
    "##### Attempt to use cv #####"
   ]
  },
  {
   "cell_type": "code",
   "execution_count": 85,
   "metadata": {},
   "outputs": [],
   "source": [
    "# display images inline\n",
    "%matplotlib inline"
   ]
  },
  {
   "cell_type": "code",
   "execution_count": 103,
   "metadata": {},
   "outputs": [],
   "source": [
    "image_path = '/home/matthew/Desktop/Master_Dev/masters_penguin_pose_estimation/data/raw/OpenImagesV7/OpenImageV7_raw_images/381820d77d917c77.jpg'\n",
    "txt_path = '/home/matthew/Desktop/Master_Dev/masters_penguin_pose_estimation/data/raw/OpenImagesV7/OI7_Yolo_annotations/381820d77d917c77.txt'\n",
    "bbox_arr = np.loadtxt(txt_path, dtype=np.float16, delimiter=' ', usecols=(1,2,3,4))"
   ]
  },
  {
   "cell_type": "code",
   "execution_count": 104,
   "metadata": {},
   "outputs": [
    {
     "name": "stdout",
     "output_type": "stream",
     "text": [
      "[    0.50195     0.55469      0.6665     0.89062]\n"
     ]
    }
   ],
   "source": [
    "print(bbox_arr)"
   ]
  },
  {
   "cell_type": "code",
   "execution_count": 105,
   "metadata": {},
   "outputs": [],
   "source": [
    "def draw_bboxes_and_show(image_path, bboxes):\n",
    "    \"\"\"\n",
    "    Draws bounding boxes on an image and displays it inline in a Jupyter Notebook.\n",
    "\n",
    "    :param image_path: Path to the image file.\n",
    "    :param bboxes: NumPy array of bbox in the format [x_center, y_center, width, height] as normalized values.\n",
    "    \"\"\"\n",
    "    # Load the image\n",
    "    img = cv2.imread(image_path)\n",
    "    \n",
    "    # Ensure the image was loaded\n",
    "    if img is None:\n",
    "        print(\"Image not loaded; please check the path.\")\n",
    "        return\n",
    "    \n",
    "    # Convert bounding box coordinates from normalized to absolute pixel values\n",
    "    height, width = img.shape[:2]\n",
    "    #print(height, width)\n",
    "    scaled_bboxes = np.zeros_like(bboxes) # creating emptry array of correct size\n",
    "    #print(scaled_bboxes)\n",
    "    scaled_bboxes[:, 0] = (bboxes[:, 0] - (bboxes[:, 2] / 2))* width   # x_min\n",
    "    scaled_bboxes[:, 1] = (bboxes[:, 1] - bboxes[:, 3] / 2)* height  # y_min\n",
    "    scaled_bboxes[:, 2] = (bboxes[:, 0] + bboxes[:, 2] / 2)* width   # x_max\n",
    "    scaled_bboxes[:, 3] = (bboxes[:, 1] + bboxes[:, 3] / 2)* height  # y_max\n",
    "    \n",
    "    #print(scaled_bboxes)\n",
    "    # Draw each bounding box on the image\n",
    "    for (x_min, y_min, x_max, y_max) in scaled_bboxes:\n",
    "        cv2.rectangle(img, (int(x_min), int(y_min)), (int(x_max), int(y_max)), (255, 0, 0), 2)\n",
    "    \n",
    "    # Convert BGR image to RGB\n",
    "    img_rgb = cv2.cvtColor(img, cv2.COLOR_BGR2RGB)\n",
    "    \n",
    "    # Display the image\n",
    "    plt.figure(figsize=(10, 10))\n",
    "    plt.imshow(img_rgb)\n",
    "    plt.axis('off')\n",
    "    plt.show()"
   ]
  },
  {
   "cell_type": "code",
   "execution_count": 106,
   "metadata": {},
   "outputs": [
    {
     "ename": "IndexError",
     "evalue": "too many indices for array: array is 1-dimensional, but 2 were indexed",
     "output_type": "error",
     "traceback": [
      "\u001b[0;31m---------------------------------------------------------------------------\u001b[0m",
      "\u001b[0;31mIndexError\u001b[0m                                Traceback (most recent call last)",
      "Cell \u001b[0;32mIn[106], line 2\u001b[0m\n\u001b[1;32m      1\u001b[0m \u001b[38;5;66;03m#print(bbox_arr)\u001b[39;00m\n\u001b[0;32m----> 2\u001b[0m \u001b[43mdraw_bboxes_and_show\u001b[49m\u001b[43m(\u001b[49m\u001b[43mimage_path\u001b[49m\u001b[43m,\u001b[49m\u001b[43m \u001b[49m\u001b[43mbbox_arr\u001b[49m\u001b[43m)\u001b[49m\n",
      "Cell \u001b[0;32mIn[105], line 21\u001b[0m, in \u001b[0;36mdraw_bboxes_and_show\u001b[0;34m(image_path, bboxes)\u001b[0m\n\u001b[1;32m     19\u001b[0m scaled_bboxes \u001b[38;5;241m=\u001b[39m np\u001b[38;5;241m.\u001b[39mzeros_like(bboxes) \u001b[38;5;66;03m# creating emptry array of correct size\u001b[39;00m\n\u001b[1;32m     20\u001b[0m \u001b[38;5;66;03m#print(scaled_bboxes)\u001b[39;00m\n\u001b[0;32m---> 21\u001b[0m scaled_bboxes[:, \u001b[38;5;241m0\u001b[39m] \u001b[38;5;241m=\u001b[39m (\u001b[43mbboxes\u001b[49m\u001b[43m[\u001b[49m\u001b[43m:\u001b[49m\u001b[43m,\u001b[49m\u001b[43m \u001b[49m\u001b[38;5;241;43m0\u001b[39;49m\u001b[43m]\u001b[49m \u001b[38;5;241m-\u001b[39m (bboxes[:, \u001b[38;5;241m2\u001b[39m] \u001b[38;5;241m/\u001b[39m \u001b[38;5;241m2\u001b[39m))\u001b[38;5;241m*\u001b[39m width   \u001b[38;5;66;03m# x_min\u001b[39;00m\n\u001b[1;32m     22\u001b[0m scaled_bboxes[:, \u001b[38;5;241m1\u001b[39m] \u001b[38;5;241m=\u001b[39m (bboxes[:, \u001b[38;5;241m1\u001b[39m] \u001b[38;5;241m-\u001b[39m bboxes[:, \u001b[38;5;241m3\u001b[39m] \u001b[38;5;241m/\u001b[39m \u001b[38;5;241m2\u001b[39m)\u001b[38;5;241m*\u001b[39m height  \u001b[38;5;66;03m# y_min\u001b[39;00m\n\u001b[1;32m     23\u001b[0m scaled_bboxes[:, \u001b[38;5;241m2\u001b[39m] \u001b[38;5;241m=\u001b[39m (bboxes[:, \u001b[38;5;241m0\u001b[39m] \u001b[38;5;241m+\u001b[39m bboxes[:, \u001b[38;5;241m2\u001b[39m] \u001b[38;5;241m/\u001b[39m \u001b[38;5;241m2\u001b[39m)\u001b[38;5;241m*\u001b[39m width   \u001b[38;5;66;03m# x_max\u001b[39;00m\n",
      "\u001b[0;31mIndexError\u001b[0m: too many indices for array: array is 1-dimensional, but 2 were indexed"
     ]
    }
   ],
   "source": [
    "#print(bbox_arr)\n",
    "draw_bboxes_and_show(image_path, bbox_arr)"
   ]
  }
 ],
 "metadata": {
  "kernelspec": {
   "display_name": "env",
   "language": "python",
   "name": "python3"
  },
  "language_info": {
   "codemirror_mode": {
    "name": "ipython",
    "version": 3
   },
   "file_extension": ".py",
   "mimetype": "text/x-python",
   "name": "python",
   "nbconvert_exporter": "python",
   "pygments_lexer": "ipython3",
   "version": "3.8.5"
  }
 },
 "nbformat": 4,
 "nbformat_minor": 2
}
