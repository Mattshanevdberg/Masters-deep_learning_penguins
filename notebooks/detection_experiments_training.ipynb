{
 "cells": [
  {
   "cell_type": "markdown",
   "metadata": {},
   "source": [
    "# IMPORTS #"
   ]
  },
  {
   "cell_type": "code",
   "execution_count": 20,
   "metadata": {
    "metadata": {}
   },
   "outputs": [],
   "source": [
    "import torch\n",
    "import pandas as pd\n",
    "import numpy as np\n",
    "#import fiftyone as fo\n",
    "#import fiftyone.zoo as foz\n",
    "from ultralytics import YOLO\n",
    "# no longer required"
   ]
  },
  {
   "cell_type": "markdown",
   "metadata": {},
   "source": [
    "# Getting the OpenImagesV7 dataset ready for use #"
   ]
  },
  {
   "cell_type": "markdown",
   "metadata": {},
   "source": [
    "We are going to use the fiftyone lib to get the only the penguin data. \\\n",
    "Then we are going to need to make sure the data is compatible and in the right format for the YOLOv8 model."
   ]
  },
  {
   "cell_type": "markdown",
   "metadata": {},
   "source": [
    "## Get only the penguin data from the OpenImagesV7 dataset ##"
   ]
  },
  {
   "cell_type": "markdown",
   "metadata": {},
   "source": [
    "### Using the fiftyone - this requires the MongaDB so I am going to just work with the dataset directly ###"
   ]
  },
  {
   "cell_type": "code",
   "execution_count": null,
   "metadata": {},
   "outputs": [],
   "source": [
    "# test\n",
    "# to be removed\n",
    "dataset = foz.load_zoo_dataset(\n",
    "    \"open-images-v7\",\n",
    "    split=\"validation\",\n",
    "    max_samples=100,\n",
    "    seed=51,\n",
    "    shuffle=True,\n",
    ")\n",
    "\n",
    "session = fo.launch_app(dataset.view())\n",
    "# fiftyone is not working working off the bat so I am going to try something else and come back to this\n"
   ]
  },
  {
   "cell_type": "markdown",
   "metadata": {},
   "source": [
    "### working with the dataset and annotations directly ###"
   ]
  },
  {
   "cell_type": "markdown",
   "metadata": {},
   "source": [
    "data is found here: https://storage.googleapis.com/openimages/web/download_v7.html \\\n",
    "\\\n",
    "The goal is to create a list with all the image ids that specify that a penguin has been detected\\\n",
    "The downloader.py function that is supplied by OIV7 (and is saved it the colab directory) can be called and will only download the images in that list\\\n",
    "We then need to check those images and adjust the relevant annotations to only include those ids and save them.\\\n"
   ]
  },
  {
   "cell_type": "code",
   "execution_count": 2,
   "metadata": {},
   "outputs": [],
   "source": [
    "# path to the parent folder of the raw data\n",
    "\n",
    "ROOT_RAW_OI7_PATH = '/home/matthew/Desktop/Master_Dev/masters_penguin_pose_estimation/data/raw/OpenImagesV7'"
   ]
  },
  {
   "cell_type": "markdown",
   "metadata": {},
   "source": [
    "#### Getting the data annotations in a dataframe and filtering to only penguins ####"
   ]
  },
  {
   "cell_type": "code",
   "execution_count": 3,
   "metadata": {},
   "outputs": [],
   "source": [
    "# load csvs to dataframes to work with\n",
    "raw_image_labels = pd.read_csv(f'{ROOT_RAW_OI7_PATH}/test-annotations-human-imagelabels-boxable.csv')\n",
    "raw_bbox_labels = pd.read_csv(f'{ROOT_RAW_OI7_PATH}/test-annotations-bbox.csv')"
   ]
  },
  {
   "cell_type": "code",
   "execution_count": 4,
   "metadata": {
    "metadata": {}
   },
   "outputs": [
    {
     "data": {
      "text/html": [
       "<div>\n",
       "<style scoped>\n",
       "    .dataframe tbody tr th:only-of-type {\n",
       "        vertical-align: middle;\n",
       "    }\n",
       "\n",
       "    .dataframe tbody tr th {\n",
       "        vertical-align: top;\n",
       "    }\n",
       "\n",
       "    .dataframe thead th {\n",
       "        text-align: right;\n",
       "    }\n",
       "</style>\n",
       "<table border=\"1\" class=\"dataframe\">\n",
       "  <thead>\n",
       "    <tr style=\"text-align: right;\">\n",
       "      <th></th>\n",
       "      <th>ImageID</th>\n",
       "      <th>Source</th>\n",
       "      <th>LabelName</th>\n",
       "      <th>Confidence</th>\n",
       "    </tr>\n",
       "  </thead>\n",
       "  <tbody>\n",
       "    <tr>\n",
       "      <th>0</th>\n",
       "      <td>000026e7ee790996</td>\n",
       "      <td>verification</td>\n",
       "      <td>/m/0cgh4</td>\n",
       "      <td>0</td>\n",
       "    </tr>\n",
       "    <tr>\n",
       "      <th>1</th>\n",
       "      <td>000026e7ee790996</td>\n",
       "      <td>verification</td>\n",
       "      <td>/m/04hgtk</td>\n",
       "      <td>0</td>\n",
       "    </tr>\n",
       "    <tr>\n",
       "      <th>2</th>\n",
       "      <td>000026e7ee790996</td>\n",
       "      <td>verification</td>\n",
       "      <td>/m/0d5gx</td>\n",
       "      <td>0</td>\n",
       "    </tr>\n",
       "    <tr>\n",
       "      <th>3</th>\n",
       "      <td>000026e7ee790996</td>\n",
       "      <td>verification</td>\n",
       "      <td>/m/07j7r</td>\n",
       "      <td>1</td>\n",
       "    </tr>\n",
       "    <tr>\n",
       "      <th>4</th>\n",
       "      <td>000026e7ee790996</td>\n",
       "      <td>verification</td>\n",
       "      <td>/m/04rky</td>\n",
       "      <td>0</td>\n",
       "    </tr>\n",
       "  </tbody>\n",
       "</table>\n",
       "</div>"
      ],
      "text/plain": [
       "            ImageID        Source  LabelName  Confidence\n",
       "0  000026e7ee790996  verification   /m/0cgh4           0\n",
       "1  000026e7ee790996  verification  /m/04hgtk           0\n",
       "2  000026e7ee790996  verification   /m/0d5gx           0\n",
       "3  000026e7ee790996  verification   /m/07j7r           1\n",
       "4  000026e7ee790996  verification   /m/04rky           0"
      ]
     },
     "execution_count": 4,
     "metadata": {},
     "output_type": "execute_result"
    }
   ],
   "source": [
    "raw_image_labels.head()"
   ]
  },
  {
   "cell_type": "code",
   "execution_count": 5,
   "metadata": {
    "metadata": {}
   },
   "outputs": [
    {
     "data": {
      "text/html": [
       "<div>\n",
       "<style scoped>\n",
       "    .dataframe tbody tr th:only-of-type {\n",
       "        vertical-align: middle;\n",
       "    }\n",
       "\n",
       "    .dataframe tbody tr th {\n",
       "        vertical-align: top;\n",
       "    }\n",
       "\n",
       "    .dataframe thead th {\n",
       "        text-align: right;\n",
       "    }\n",
       "</style>\n",
       "<table border=\"1\" class=\"dataframe\">\n",
       "  <thead>\n",
       "    <tr style=\"text-align: right;\">\n",
       "      <th></th>\n",
       "      <th>ImageID</th>\n",
       "      <th>Source</th>\n",
       "      <th>LabelName</th>\n",
       "      <th>Confidence</th>\n",
       "      <th>XMin</th>\n",
       "      <th>XMax</th>\n",
       "      <th>YMin</th>\n",
       "      <th>YMax</th>\n",
       "      <th>IsOccluded</th>\n",
       "      <th>IsTruncated</th>\n",
       "      <th>IsGroupOf</th>\n",
       "      <th>IsDepiction</th>\n",
       "      <th>IsInside</th>\n",
       "    </tr>\n",
       "  </thead>\n",
       "  <tbody>\n",
       "    <tr>\n",
       "      <th>0</th>\n",
       "      <td>000026e7ee790996</td>\n",
       "      <td>xclick</td>\n",
       "      <td>/m/07j7r</td>\n",
       "      <td>1</td>\n",
       "      <td>0.071875</td>\n",
       "      <td>0.145313</td>\n",
       "      <td>0.206250</td>\n",
       "      <td>0.391667</td>\n",
       "      <td>0</td>\n",
       "      <td>1</td>\n",
       "      <td>1</td>\n",
       "      <td>0</td>\n",
       "      <td>0</td>\n",
       "    </tr>\n",
       "    <tr>\n",
       "      <th>1</th>\n",
       "      <td>000026e7ee790996</td>\n",
       "      <td>xclick</td>\n",
       "      <td>/m/07j7r</td>\n",
       "      <td>1</td>\n",
       "      <td>0.439063</td>\n",
       "      <td>0.571875</td>\n",
       "      <td>0.264583</td>\n",
       "      <td>0.435417</td>\n",
       "      <td>0</td>\n",
       "      <td>1</td>\n",
       "      <td>1</td>\n",
       "      <td>0</td>\n",
       "      <td>0</td>\n",
       "    </tr>\n",
       "    <tr>\n",
       "      <th>2</th>\n",
       "      <td>000026e7ee790996</td>\n",
       "      <td>xclick</td>\n",
       "      <td>/m/07j7r</td>\n",
       "      <td>1</td>\n",
       "      <td>0.668750</td>\n",
       "      <td>1.000000</td>\n",
       "      <td>0.000000</td>\n",
       "      <td>0.552083</td>\n",
       "      <td>0</td>\n",
       "      <td>1</td>\n",
       "      <td>1</td>\n",
       "      <td>0</td>\n",
       "      <td>0</td>\n",
       "    </tr>\n",
       "    <tr>\n",
       "      <th>3</th>\n",
       "      <td>000062a39995e348</td>\n",
       "      <td>xclick</td>\n",
       "      <td>/m/015p6</td>\n",
       "      <td>1</td>\n",
       "      <td>0.206208</td>\n",
       "      <td>0.849224</td>\n",
       "      <td>0.154639</td>\n",
       "      <td>1.000000</td>\n",
       "      <td>0</td>\n",
       "      <td>0</td>\n",
       "      <td>0</td>\n",
       "      <td>0</td>\n",
       "      <td>0</td>\n",
       "    </tr>\n",
       "    <tr>\n",
       "      <th>4</th>\n",
       "      <td>000062a39995e348</td>\n",
       "      <td>xclick</td>\n",
       "      <td>/m/05s2s</td>\n",
       "      <td>1</td>\n",
       "      <td>0.137472</td>\n",
       "      <td>0.376940</td>\n",
       "      <td>0.000000</td>\n",
       "      <td>0.883652</td>\n",
       "      <td>1</td>\n",
       "      <td>1</td>\n",
       "      <td>0</td>\n",
       "      <td>0</td>\n",
       "      <td>0</td>\n",
       "    </tr>\n",
       "  </tbody>\n",
       "</table>\n",
       "</div>"
      ],
      "text/plain": [
       "            ImageID  Source LabelName  Confidence      XMin      XMax  \\\n",
       "0  000026e7ee790996  xclick  /m/07j7r           1  0.071875  0.145313   \n",
       "1  000026e7ee790996  xclick  /m/07j7r           1  0.439063  0.571875   \n",
       "2  000026e7ee790996  xclick  /m/07j7r           1  0.668750  1.000000   \n",
       "3  000062a39995e348  xclick  /m/015p6           1  0.206208  0.849224   \n",
       "4  000062a39995e348  xclick  /m/05s2s           1  0.137472  0.376940   \n",
       "\n",
       "       YMin      YMax  IsOccluded  IsTruncated  IsGroupOf  IsDepiction  \\\n",
       "0  0.206250  0.391667           0            1          1            0   \n",
       "1  0.264583  0.435417           0            1          1            0   \n",
       "2  0.000000  0.552083           0            1          1            0   \n",
       "3  0.154639  1.000000           0            0          0            0   \n",
       "4  0.000000  0.883652           1            1          0            0   \n",
       "\n",
       "   IsInside  \n",
       "0         0  \n",
       "1         0  \n",
       "2         0  \n",
       "3         0  \n",
       "4         0  "
      ]
     },
     "execution_count": 5,
     "metadata": {},
     "output_type": "execute_result"
    }
   ],
   "source": [
    "raw_bbox_labels.head()"
   ]
  },
  {
   "cell_type": "markdown",
   "metadata": {},
   "source": [
    "the penguin id (found from the oldv7-class-descriptions-boxable.csv file):\\\n",
    "/m/05z6w"
   ]
  },
  {
   "cell_type": "code",
   "execution_count": 16,
   "metadata": {},
   "outputs": [],
   "source": [
    "# below you can also just make it image labels where LabelName is the same but the confidence score is also equal to 1\n",
    "# then you dont need to do the removing the rows thing"
   ]
  },
  {
   "cell_type": "code",
   "execution_count": 6,
   "metadata": {
    "metadata": {}
   },
   "outputs": [],
   "source": [
    "# create datasets that only contain entries with images in them\n",
    "penguin_image_labels = raw_image_labels[raw_image_labels['LabelName'] == '/m/05z6w']\n",
    "penguin_bbox_labels = raw_bbox_labels[raw_bbox_labels['LabelName'] == '/m/05z6w']"
   ]
  },
  {
   "cell_type": "code",
   "execution_count": 7,
   "metadata": {
    "metadata": {}
   },
   "outputs": [
    {
     "data": {
      "text/html": [
       "<div>\n",
       "<style scoped>\n",
       "    .dataframe tbody tr th:only-of-type {\n",
       "        vertical-align: middle;\n",
       "    }\n",
       "\n",
       "    .dataframe tbody tr th {\n",
       "        vertical-align: top;\n",
       "    }\n",
       "\n",
       "    .dataframe thead th {\n",
       "        text-align: right;\n",
       "    }\n",
       "</style>\n",
       "<table border=\"1\" class=\"dataframe\">\n",
       "  <thead>\n",
       "    <tr style=\"text-align: right;\">\n",
       "      <th></th>\n",
       "      <th>ImageID</th>\n",
       "      <th>Source</th>\n",
       "      <th>LabelName</th>\n",
       "      <th>Confidence</th>\n",
       "    </tr>\n",
       "  </thead>\n",
       "  <tbody>\n",
       "    <tr>\n",
       "      <th>6084</th>\n",
       "      <td>01e8e6894bf88777</td>\n",
       "      <td>verification</td>\n",
       "      <td>/m/05z6w</td>\n",
       "      <td>1</td>\n",
       "    </tr>\n",
       "    <tr>\n",
       "      <th>7654</th>\n",
       "      <td>025dfa9ea18bcb18</td>\n",
       "      <td>verification</td>\n",
       "      <td>/m/05z6w</td>\n",
       "      <td>0</td>\n",
       "    </tr>\n",
       "    <tr>\n",
       "      <th>14090</th>\n",
       "      <td>045f2a7a01277369</td>\n",
       "      <td>verification</td>\n",
       "      <td>/m/05z6w</td>\n",
       "      <td>0</td>\n",
       "    </tr>\n",
       "    <tr>\n",
       "      <th>17172</th>\n",
       "      <td>0555911ee31d049f</td>\n",
       "      <td>verification</td>\n",
       "      <td>/m/05z6w</td>\n",
       "      <td>0</td>\n",
       "    </tr>\n",
       "    <tr>\n",
       "      <th>24612</th>\n",
       "      <td>07ca230691eec10e</td>\n",
       "      <td>verification</td>\n",
       "      <td>/m/05z6w</td>\n",
       "      <td>1</td>\n",
       "    </tr>\n",
       "    <tr>\n",
       "      <th>...</th>\n",
       "      <td>...</td>\n",
       "      <td>...</td>\n",
       "      <td>...</td>\n",
       "      <td>...</td>\n",
       "    </tr>\n",
       "    <tr>\n",
       "      <th>482309</th>\n",
       "      <td>9ee32a851eba0eea</td>\n",
       "      <td>verification</td>\n",
       "      <td>/m/05z6w</td>\n",
       "      <td>1</td>\n",
       "    </tr>\n",
       "    <tr>\n",
       "      <th>492643</th>\n",
       "      <td>a25a74a471183cee</td>\n",
       "      <td>verification</td>\n",
       "      <td>/m/05z6w</td>\n",
       "      <td>1</td>\n",
       "    </tr>\n",
       "    <tr>\n",
       "      <th>495405</th>\n",
       "      <td>a32f24bc0220911f</td>\n",
       "      <td>verification</td>\n",
       "      <td>/m/05z6w</td>\n",
       "      <td>0</td>\n",
       "    </tr>\n",
       "    <tr>\n",
       "      <th>516197</th>\n",
       "      <td>a9ddfcc0e100968c</td>\n",
       "      <td>verification</td>\n",
       "      <td>/m/05z6w</td>\n",
       "      <td>1</td>\n",
       "    </tr>\n",
       "    <tr>\n",
       "      <th>516312</th>\n",
       "      <td>a9e4a8ab99442e99</td>\n",
       "      <td>verification</td>\n",
       "      <td>/m/05z6w</td>\n",
       "      <td>1</td>\n",
       "    </tr>\n",
       "  </tbody>\n",
       "</table>\n",
       "<p>97 rows × 4 columns</p>\n",
       "</div>"
      ],
      "text/plain": [
       "                 ImageID        Source LabelName  Confidence\n",
       "6084    01e8e6894bf88777  verification  /m/05z6w           1\n",
       "7654    025dfa9ea18bcb18  verification  /m/05z6w           0\n",
       "14090   045f2a7a01277369  verification  /m/05z6w           0\n",
       "17172   0555911ee31d049f  verification  /m/05z6w           0\n",
       "24612   07ca230691eec10e  verification  /m/05z6w           1\n",
       "...                  ...           ...       ...         ...\n",
       "482309  9ee32a851eba0eea  verification  /m/05z6w           1\n",
       "492643  a25a74a471183cee  verification  /m/05z6w           1\n",
       "495405  a32f24bc0220911f  verification  /m/05z6w           0\n",
       "516197  a9ddfcc0e100968c  verification  /m/05z6w           1\n",
       "516312  a9e4a8ab99442e99  verification  /m/05z6w           1\n",
       "\n",
       "[97 rows x 4 columns]"
      ]
     },
     "execution_count": 7,
     "metadata": {},
     "output_type": "execute_result"
    }
   ],
   "source": [
    "penguin_image_labels.head(97)"
   ]
  },
  {
   "cell_type": "code",
   "execution_count": 8,
   "metadata": {
    "metadata": {}
   },
   "outputs": [
    {
     "data": {
      "text/plain": [
       "(144, 4)"
      ]
     },
     "execution_count": 8,
     "metadata": {},
     "output_type": "execute_result"
    }
   ],
   "source": [
    "# get number of rows (number of images)\n",
    "penguin_image_labels.shape"
   ]
  },
  {
   "cell_type": "code",
   "execution_count": 9,
   "metadata": {
    "metadata": {}
   },
   "outputs": [
    {
     "data": {
      "text/html": [
       "<div>\n",
       "<style scoped>\n",
       "    .dataframe tbody tr th:only-of-type {\n",
       "        vertical-align: middle;\n",
       "    }\n",
       "\n",
       "    .dataframe tbody tr th {\n",
       "        vertical-align: top;\n",
       "    }\n",
       "\n",
       "    .dataframe thead th {\n",
       "        text-align: right;\n",
       "    }\n",
       "</style>\n",
       "<table border=\"1\" class=\"dataframe\">\n",
       "  <thead>\n",
       "    <tr style=\"text-align: right;\">\n",
       "      <th></th>\n",
       "      <th>ImageID</th>\n",
       "      <th>Source</th>\n",
       "      <th>LabelName</th>\n",
       "      <th>Confidence</th>\n",
       "      <th>XMin</th>\n",
       "      <th>XMax</th>\n",
       "      <th>YMin</th>\n",
       "      <th>YMax</th>\n",
       "      <th>IsOccluded</th>\n",
       "      <th>IsTruncated</th>\n",
       "      <th>IsGroupOf</th>\n",
       "      <th>IsDepiction</th>\n",
       "      <th>IsInside</th>\n",
       "    </tr>\n",
       "  </thead>\n",
       "  <tbody>\n",
       "    <tr>\n",
       "      <th>7934</th>\n",
       "      <td>01e8e6894bf88777</td>\n",
       "      <td>xclick</td>\n",
       "      <td>/m/05z6w</td>\n",
       "      <td>1</td>\n",
       "      <td>0.050186</td>\n",
       "      <td>0.899628</td>\n",
       "      <td>0.014035</td>\n",
       "      <td>0.843860</td>\n",
       "      <td>0</td>\n",
       "      <td>0</td>\n",
       "      <td>0</td>\n",
       "      <td>0</td>\n",
       "      <td>0</td>\n",
       "    </tr>\n",
       "    <tr>\n",
       "      <th>30971</th>\n",
       "      <td>07ca230691eec10e</td>\n",
       "      <td>xclick</td>\n",
       "      <td>/m/05z6w</td>\n",
       "      <td>1</td>\n",
       "      <td>0.000000</td>\n",
       "      <td>0.466814</td>\n",
       "      <td>0.625369</td>\n",
       "      <td>1.000000</td>\n",
       "      <td>1</td>\n",
       "      <td>1</td>\n",
       "      <td>0</td>\n",
       "      <td>0</td>\n",
       "      <td>0</td>\n",
       "    </tr>\n",
       "    <tr>\n",
       "      <th>30972</th>\n",
       "      <td>07ca230691eec10e</td>\n",
       "      <td>xclick</td>\n",
       "      <td>/m/05z6w</td>\n",
       "      <td>1</td>\n",
       "      <td>0.327434</td>\n",
       "      <td>0.761062</td>\n",
       "      <td>0.122419</td>\n",
       "      <td>0.501475</td>\n",
       "      <td>1</td>\n",
       "      <td>0</td>\n",
       "      <td>0</td>\n",
       "      <td>0</td>\n",
       "      <td>0</td>\n",
       "    </tr>\n",
       "    <tr>\n",
       "      <th>30973</th>\n",
       "      <td>07ca230691eec10e</td>\n",
       "      <td>xclick</td>\n",
       "      <td>/m/05z6w</td>\n",
       "      <td>1</td>\n",
       "      <td>0.396018</td>\n",
       "      <td>0.818584</td>\n",
       "      <td>0.215339</td>\n",
       "      <td>0.971976</td>\n",
       "      <td>0</td>\n",
       "      <td>0</td>\n",
       "      <td>0</td>\n",
       "      <td>0</td>\n",
       "      <td>0</td>\n",
       "    </tr>\n",
       "    <tr>\n",
       "      <th>37464</th>\n",
       "      <td>099862b891b82c9a</td>\n",
       "      <td>xclick</td>\n",
       "      <td>/m/05z6w</td>\n",
       "      <td>1</td>\n",
       "      <td>0.526549</td>\n",
       "      <td>0.621681</td>\n",
       "      <td>0.309735</td>\n",
       "      <td>0.401180</td>\n",
       "      <td>0</td>\n",
       "      <td>0</td>\n",
       "      <td>0</td>\n",
       "      <td>1</td>\n",
       "      <td>0</td>\n",
       "    </tr>\n",
       "  </tbody>\n",
       "</table>\n",
       "</div>"
      ],
      "text/plain": [
       "                ImageID  Source LabelName  Confidence      XMin      XMax  \\\n",
       "7934   01e8e6894bf88777  xclick  /m/05z6w           1  0.050186  0.899628   \n",
       "30971  07ca230691eec10e  xclick  /m/05z6w           1  0.000000  0.466814   \n",
       "30972  07ca230691eec10e  xclick  /m/05z6w           1  0.327434  0.761062   \n",
       "30973  07ca230691eec10e  xclick  /m/05z6w           1  0.396018  0.818584   \n",
       "37464  099862b891b82c9a  xclick  /m/05z6w           1  0.526549  0.621681   \n",
       "\n",
       "           YMin      YMax  IsOccluded  IsTruncated  IsGroupOf  IsDepiction  \\\n",
       "7934   0.014035  0.843860           0            0          0            0   \n",
       "30971  0.625369  1.000000           1            1          0            0   \n",
       "30972  0.122419  0.501475           1            0          0            0   \n",
       "30973  0.215339  0.971976           0            0          0            0   \n",
       "37464  0.309735  0.401180           0            0          0            1   \n",
       "\n",
       "       IsInside  \n",
       "7934          0  \n",
       "30971         0  \n",
       "30972         0  \n",
       "30973         0  \n",
       "37464         0  "
      ]
     },
     "execution_count": 9,
     "metadata": {},
     "output_type": "execute_result"
    }
   ],
   "source": [
    "penguin_bbox_labels.head()"
   ]
  },
  {
   "cell_type": "code",
   "execution_count": 10,
   "metadata": {
    "metadata": {}
   },
   "outputs": [
    {
     "data": {
      "text/plain": [
       "(165, 13)"
      ]
     },
     "execution_count": 10,
     "metadata": {},
     "output_type": "execute_result"
    }
   ],
   "source": [
    "# get number of rows (number of bboxs)\n",
    "penguin_bbox_labels.shape"
   ]
  },
  {
   "cell_type": "markdown",
   "metadata": {},
   "source": [
    "#### creating the text file with a list of all the images the contain penguins and getting all the images from that and downloading those images to a folder - you only need to do this once for the test, train and val datasets on the ####"
   ]
  },
  {
   "cell_type": "code",
   "execution_count": 11,
   "metadata": {
    "metadata": {}
   },
   "outputs": [],
   "source": [
    "# First I would like to just check that all the ids appear in both lists (sanity check)\n",
    "# I will remove anything that does not appear in both \n",
    "def check_id_presence_in_dfs(df1, df2, id_column, df1_name='df1', df2_name='df2'):\n",
    "    \"\"\"\n",
    "    Check and print IDs that are not present in both dataframes and put them in a list. prints and returns nothing if all ids are present.\n",
    "    \"\"\"\n",
    "    # Set of ids from each df\n",
    "    ids_df1 = set(df1[id_column])\n",
    "    ids_df2 = set(df2[id_column])\n",
    "\n",
    "    # create lists for ids to be removefd\n",
    "    df1_list_2remove = []\n",
    "    df2_list_2remove = []\n",
    "\n",
    "    # Find IDs that are only in df1\n",
    "    only_in_df1 = ids_df1 - ids_df2\n",
    "    if only_in_df1:\n",
    "        #print(f\"IDs only in {df1_name}:\")\n",
    "        for id_ in only_in_df1:\n",
    "            #print(id_)\n",
    "            df1_list_2remove.append(id_)\n",
    "\n",
    "    # Find IDs that are only in df2\n",
    "    only_in_df2 = ids_df2 - ids_df1\n",
    "    if only_in_df2:\n",
    "        #print(f\"IDs only in {df2_name}:\")\n",
    "        for id_ in only_in_df2:\n",
    "            #print(id_)\n",
    "            df2_list_2remove.append(id_)\n",
    "\n",
    "    return df1_list_2remove, df2_list_2remove"
   ]
  },
  {
   "cell_type": "code",
   "execution_count": 12,
   "metadata": {
    "metadata": {}
   },
   "outputs": [],
   "source": [
    "# if returns nothing then all images are present in both dfs\n",
    "penguin_image_labels_2remove, penguin_bbox_labels_2remove = check_id_presence_in_dfs(penguin_image_labels, penguin_bbox_labels, 'ImageID', 'label', 'bbox')"
   ]
  },
  {
   "cell_type": "code",
   "execution_count": 13,
   "metadata": {
    "metadata": {}
   },
   "outputs": [
    {
     "name": "stdout",
     "output_type": "stream",
     "text": [
      "47\n",
      "0\n"
     ]
    }
   ],
   "source": [
    "print(len(penguin_image_labels_2remove))\n",
    "print(len(penguin_bbox_labels_2remove))"
   ]
  },
  {
   "cell_type": "code",
   "execution_count": 14,
   "metadata": {
    "metadata": {}
   },
   "outputs": [],
   "source": [
    "# function to remove ids that don't appear in both lists\n",
    "def remove_entries_by_ids(df, id_list, id_column):\n",
    "    '''Removes rows from the DataFrame where the ID is in the provided list.'''\n",
    "    filtered_df = df[~df[id_column].isin(id_list)]\n",
    "    return filtered_df"
   ]
  },
  {
   "cell_type": "code",
   "execution_count": 15,
   "metadata": {
    "metadata": {}
   },
   "outputs": [],
   "source": [
    "penguin_image_labels = remove_entries_by_ids(penguin_image_labels, penguin_image_labels_2remove, 'ImageID')\n",
    "penguin_bbox_labels = remove_entries_by_ids(penguin_bbox_labels, penguin_bbox_labels_2remove, 'ImageID')"
   ]
  },
  {
   "cell_type": "code",
   "execution_count": 16,
   "metadata": {
    "metadata": {}
   },
   "outputs": [
    {
     "data": {
      "text/plain": [
       "(97, 4)"
      ]
     },
     "execution_count": 16,
     "metadata": {},
     "output_type": "execute_result"
    }
   ],
   "source": [
    "penguin_image_labels.shape"
   ]
  },
  {
   "cell_type": "code",
   "execution_count": 17,
   "metadata": {
    "metadata": {}
   },
   "outputs": [
    {
     "data": {
      "text/plain": [
       "(165, 13)"
      ]
     },
     "execution_count": 17,
     "metadata": {},
     "output_type": "execute_result"
    }
   ],
   "source": [
    "penguin_bbox_labels.shape"
   ]
  },
  {
   "cell_type": "code",
   "execution_count": 19,
   "metadata": {
    "metadata": {}
   },
   "outputs": [],
   "source": [
    "# create a text file with the following layout:\n",
    "#$SPLIT/$IMAGE_ID, where $SPLIT is either \"train\", \"test\", \"validation\", or \"challenge2018\"; and $IMAGE_ID is the image ID that uniquely identifies the image\n",
    "# so the text file will look like this:\n",
    "#train/f9e0434389a1d4dd\n",
    "#train/1a007563ebc18664\n",
    "#test/ea8bfd4e765304db\n",
    "# the following function should create the required text file:\n",
    "def write_ids_to_file(location, name, df):\n",
    "    \"\"\"\n",
    "    Writes entries to a text file where each entry is 'name/id' from the DataFrame's ID column.\n",
    "\n",
    "    :param location: String, the directory where the text file will be saved.\n",
    "    :param name: String, the name to be prefixed before each ID.\n",
    "    :param df: DataFrame, the dataframe containing an 'id' column.\n",
    "    \"\"\"\n",
    "    # Open a file at the specified location to write\n",
    "    with open(f\"{location}/{name}_ids.txt\", \"w\") as file:\n",
    "        # Loop through each id in the DataFrame\n",
    "        for id_ in df['ImageID']:\n",
    "            # Write formatted string to file\n",
    "            file.write(f\"{name}/{id_}\\n\")"
   ]
  },
  {
   "cell_type": "code",
   "execution_count": 11,
   "metadata": {},
   "outputs": [],
   "source": [
    "# call the above function for the test images\n",
    "# call the above function for the test images\n",
    "# call the above function for the test images\n",
    "write_ids_to_file(ROOT_RAW_OI7_PATH, 'test', penguin_image_labels)"
   ]
  },
  {
   "cell_type": "markdown",
   "metadata": {},
   "source": [
    "Now run the following command in the terminal:\\\n",
    "python3 /home/matthew/Desktop/Master_Dev/masters_penguin_pose_estimation/notebooks/OpenImagesV7_downloader.py /home/matthew/Desktop/Master_Dev/masters_penguin_pose_estimation/data/raw/OpenImagesV7/image_list_file.txt --download_folder=/home/matthew/Desktop/Master_Dev/masters_penguin_pose_estimation/data/raw/OpenImagesV7/OpenImageV7_raw_images --num_processes=5\n",
    "\n",
    "but replace image_list_file.txt with the name of the test file you just created.\\\n",
    "\\\n",
    "The images should be copied to the /home/matthew/Desktop/Master_Dev/masters_penguin_pose_estimation/data/raw/OpenImagesV7/OpenImageV7_raw_images directory "
   ]
  },
  {
   "cell_type": "code",
   "execution_count": 19,
   "metadata": {},
   "outputs": [
    {
     "name": "stdout",
     "output_type": "stream",
     "text": [
      "Empty DataFrame\n",
      "Columns: [ImageID, Source, LabelName, Confidence]\n",
      "Index: []\n"
     ]
    }
   ],
   "source": [
    "# this will allow you to see the row corresponding to the id provided\n",
    "input_id = '0d6a527e509d7e6e'\n",
    "matching_row = penguin_image_labels[penguin_image_labels['ImageID'] == input_id]\n",
    "print(matching_row)"
   ]
  },
  {
   "cell_type": "code",
   "execution_count": 18,
   "metadata": {},
   "outputs": [
    {
     "name": "stdout",
     "output_type": "stream",
     "text": [
      "Empty DataFrame\n",
      "Columns: [ImageID, Source, LabelName, Confidence, XMin, XMax, YMin, YMax, IsOccluded, IsTruncated, IsGroupOf, IsDepiction, IsInside]\n",
      "Index: []\n"
     ]
    }
   ],
   "source": [
    "# this will allow you to see the row corresponding to the id provided\n",
    "input_id = '0d6a527e509d7e6e'\n",
    "matching_row = penguin_bbox_labels[penguin_bbox_labels['ImageID'] == input_id]\n",
    "print(matching_row)"
   ]
  },
  {
   "cell_type": "markdown",
   "metadata": {},
   "source": [
    "#### Create the annotation files ####\n",
    "here we need to create a text file for each image with the following format for each bounding box in that image, where each bounding box is on a new line:\\\n",
    "0 x_centre_value y_centre_value width height \\\n",
    "\\\n",
    "note that all values are normalised between zero and 1"
   ]
  },
  {
   "cell_type": "markdown",
   "metadata": {},
   "source": [
    "##### convert the bboxs to Yolo format: XCentre YCentre Width Height and save these as new columns to the df and save that dataframe to a .json file - might need to convert it to a series first"
   ]
  },
  {
   "cell_type": "code",
   "execution_count": null,
   "metadata": {},
   "outputs": [],
   "source": [
    "# first we need to create a function to get bounding boxes in an array in a format:\n",
    "# x1 y1 x2 y2\n",
    "# since the origin is in the top left corner, that is to say it must be:\n",
    "# XMin Ymin XMax YMax\n",
    "\n"
   ]
  }
 ],
 "metadata": {
  "kernelspec": {
   "display_name": "env",
   "language": "python",
   "name": "python3"
  },
  "language_info": {
   "codemirror_mode": {
    "name": "ipython",
    "version": 3
   },
   "file_extension": ".py",
   "mimetype": "text/x-python",
   "name": "python",
   "nbconvert_exporter": "python",
   "pygments_lexer": "ipython3",
   "version": "3.8.5"
  }
 },
 "nbformat": 4,
 "nbformat_minor": 2
}
